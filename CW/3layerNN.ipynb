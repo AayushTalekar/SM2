{
  "nbformat": 4,
  "nbformat_minor": 0,
  "metadata": {
    "colab": {
      "name": "3layerNN.ipynb",
      "provenance": [],
      "collapsed_sections": [],
      "include_colab_link": true
    },
    "kernelspec": {
      "name": "python3",
      "display_name": "Python 3"
    }
  },
  "cells": [
    {
      "cell_type": "markdown",
      "metadata": {
        "id": "view-in-github",
        "colab_type": "text"
      },
      "source": [
        "<a href=\"https://colab.research.google.com/github/AayushTalekar/SM2/blob/master/CW/3layerNN.ipynb\" target=\"_parent\"><img src=\"https://colab.research.google.com/assets/colab-badge.svg\" alt=\"Open In Colab\"/></a>"
      ]
    },
    {
      "cell_type": "code",
      "metadata": {
        "id": "sBb8mZf0L6mv",
        "colab_type": "code",
        "colab": {}
      },
      "source": [
        "import numpy as np"
      ],
      "execution_count": null,
      "outputs": []
    },
    {
      "cell_type": "code",
      "metadata": {
        "id": "sHfusR1_MHMQ",
        "colab_type": "code",
        "colab": {}
      },
      "source": [
        "np.random.seed(1)"
      ],
      "execution_count": null,
      "outputs": []
    },
    {
      "cell_type": "code",
      "metadata": {
        "id": "wxpsfH4sMWdN",
        "colab_type": "code",
        "colab": {}
      },
      "source": [
        "X_assess = np.random.randn(5, 4)\n",
        "Y_assess = (np.random.randn(1, 4)>0)"
      ],
      "execution_count": null,
      "outputs": []
    },
    {
      "cell_type": "code",
      "metadata": {
        "id": "-WbmF0LiMhMQ",
        "colab_type": "code",
        "colab": {
          "base_uri": "https://localhost:8080/",
          "height": 104
        },
        "outputId": "68039f9b-307b-4b47-b2ea-e71d172df54e"
      },
      "source": [
        "X_assess"
      ],
      "execution_count": null,
      "outputs": [
        {
          "output_type": "execute_result",
          "data": {
            "text/plain": [
              "array([[ 1.62434536, -0.61175641, -0.52817175, -1.07296862],\n",
              "       [ 0.86540763, -2.3015387 ,  1.74481176, -0.7612069 ],\n",
              "       [ 0.3190391 , -0.24937038,  1.46210794, -2.06014071],\n",
              "       [-0.3224172 , -0.38405435,  1.13376944, -1.09989127],\n",
              "       [-0.17242821, -0.87785842,  0.04221375,  0.58281521]])"
            ]
          },
          "metadata": {
            "tags": []
          },
          "execution_count": 4
        }
      ]
    },
    {
      "cell_type": "code",
      "metadata": {
        "id": "voAPQmdYMiys",
        "colab_type": "code",
        "colab": {
          "base_uri": "https://localhost:8080/",
          "height": 35
        },
        "outputId": "663572c8-4736-41e5-b2d8-6a09532e7ccd"
      },
      "source": [
        "Y_assess"
      ],
      "execution_count": null,
      "outputs": [
        {
          "output_type": "execute_result",
          "data": {
            "text/plain": [
              "array([[False,  True,  True,  True]])"
            ]
          },
          "metadata": {
            "tags": []
          },
          "execution_count": 5
        }
      ]
    },
    {
      "cell_type": "code",
      "metadata": {
        "id": "mncLcbbiMpMB",
        "colab_type": "code",
        "colab": {}
      },
      "source": [
        "def layer_sizes(X, Y):\n",
        "    \n",
        "    nx = X.shape[0]\n",
        "    nh1 = 4\n",
        "    nh2 = 3\n",
        "    ny = Y.shape[0]\n",
        "    return (nx, nh1, nh2, ny)"
      ],
      "execution_count": null,
      "outputs": []
    },
    {
      "cell_type": "code",
      "metadata": {
        "id": "y_jufBbxMuqf",
        "colab_type": "code",
        "colab": {}
      },
      "source": [
        "def initialize_parameters(nx, nh1, nh2, ny):\n",
        "    \n",
        "    np.random.seed(2)\n",
        "    \n",
        "    W1 = np.random.randn(nh1, nx) * 0.01\n",
        "    b1 = np.zeros(shape=(nh1, 1))\n",
        "    W2 = np.random.randn(nh2, nh1) * 0.01\n",
        "    b2 = np.zeros(shape=(nh2, 1))\n",
        "    W3 = np.random.randn(ny, nh2) * 0.01\n",
        "    b3 = np.zeros(shape=(ny, 1))\n",
        "\n",
        "    assert (W1.shape == (nh1, n_x))\n",
        "    assert (b1.shape == (nh1, 1))\n",
        "    assert (W2.shape == (nh2, nh1))\n",
        "    assert (b2.shape == (nh2, 1))\n",
        "    assert (W3.shape == (ny, nh2))\n",
        "    assert (b3.shape == (ny, 1))\n",
        "    \n",
        "    return {'W1':W1, 'b1':b1, 'W2':W2, 'b2':b2, 'W3':W3, 'b3':b3}"
      ],
      "execution_count": null,
      "outputs": []
    },
    {
      "cell_type": "code",
      "metadata": {
        "id": "CPuH1veAN4Fp",
        "colab_type": "code",
        "colab": {
          "base_uri": "https://localhost:8080/",
          "height": 364
        },
        "outputId": "123c16d6-3623-4a1d-f8b9-55bfbc0cb6f3"
      },
      "source": [
        "n_x, nh1, nh2, n_y = 5, 4, 3, 1\n",
        "parameters = initialize_parameters(n_x, nh1, nh2, n_y)\n",
        "parameters"
      ],
      "execution_count": null,
      "outputs": [
        {
          "output_type": "execute_result",
          "data": {
            "text/plain": [
              "{'W1': array([[-4.16757847e-03, -5.62668272e-04, -2.13619610e-02,\n",
              "          1.64027081e-02, -1.79343559e-02],\n",
              "        [-8.41747366e-03,  5.02881417e-03, -1.24528809e-02,\n",
              "         -1.05795222e-02, -9.09007615e-03],\n",
              "        [ 5.51454045e-03,  2.29220801e-02,  4.15393930e-04,\n",
              "         -1.11792545e-02,  5.39058321e-03],\n",
              "        [-5.96159700e-03, -1.91304965e-04,  1.17500122e-02,\n",
              "         -7.47870949e-03,  9.02525097e-05]]),\n",
              " 'W2': array([[-0.00878108, -0.00156434,  0.0025657 , -0.00988779],\n",
              "        [-0.00338822, -0.00236184, -0.00637655, -0.01187612],\n",
              "        [-0.01421217, -0.00153495, -0.00269057,  0.02231367]]),\n",
              " 'W3': array([[-0.02434768,  0.00112727,  0.00370445]]),\n",
              " 'b1': array([[0.],\n",
              "        [0.],\n",
              "        [0.],\n",
              "        [0.]]),\n",
              " 'b2': array([[0.],\n",
              "        [0.],\n",
              "        [0.]]),\n",
              " 'b3': array([[0.]])}"
            ]
          },
          "metadata": {
            "tags": []
          },
          "execution_count": 14
        }
      ]
    },
    {
      "cell_type": "code",
      "metadata": {
        "id": "ij-oU_vZOyTC",
        "colab_type": "code",
        "colab": {}
      },
      "source": [
        "def sigmoid(z):\n",
        "    return 1/(1+np.exp(-z))"
      ],
      "execution_count": null,
      "outputs": []
    },
    {
      "cell_type": "code",
      "metadata": {
        "id": "kuxw82iuPNFV",
        "colab_type": "code",
        "colab": {}
      },
      "source": [
        "def sigmoidDerivative(Z):\n",
        "  A = sigmoid(Z)\n",
        "  return A*(1-A)"
      ],
      "execution_count": null,
      "outputs": []
    },
    {
      "cell_type": "code",
      "metadata": {
        "id": "kK0khsu6PSTs",
        "colab_type": "code",
        "colab": {}
      },
      "source": [
        "def forward_propagation(X, parameters):\n",
        "    \n",
        "    W1 = parameters['W1']\n",
        "    b1 = parameters['b1']\n",
        "    W2 = parameters['W2']\n",
        "    b2 = parameters['b2']\n",
        "    W3 = parameters['W3']\n",
        "    b3 = parameters['b3']\n",
        "    \n",
        "    # Implement Forward Propagation to calculate A2 (probabilities)\n",
        "    \n",
        "    Z1 = np.dot(W1, X) + b1\n",
        "    A1 = sigmoid(Z1)\n",
        "    Z2 = np.dot(W2, A1) + b2\n",
        "    A2 = sigmoid(Z2)\n",
        "    Z3 = np.dot(W3, A2) + b3\n",
        "    A3 = sigmoid(Z3)\n",
        "    \n",
        "    assert(A3.shape == (1, X.shape[1]))\n",
        "    \n",
        "    cache = {\"Z1\": Z1, \"A1\": A1, \"Z2\": Z2, \"A2\": A2, \"Z3\": Z3, \"A3\": A3}\n",
        "    \n",
        "    return A3, cache"
      ],
      "execution_count": null,
      "outputs": []
    },
    {
      "cell_type": "code",
      "metadata": {
        "id": "hXzoaa1nPyAH",
        "colab_type": "code",
        "colab": {}
      },
      "source": [
        "def compute_cost(A3, Y, parameters):\n",
        "        \n",
        "    m = Y.shape[1] \n",
        "\n",
        "    cost=-np.sum(Y*np.log(A3)+(1-Y)*np.log(1-A3))/m\n",
        "      \n",
        "    cost = np.squeeze(cost)     \n",
        "    assert(isinstance(cost, float))\n",
        "    \n",
        "    return cost"
      ],
      "execution_count": null,
      "outputs": []
    },
    {
      "cell_type": "code",
      "metadata": {
        "id": "sQGVE6-WP8RH",
        "colab_type": "code",
        "colab": {}
      },
      "source": [
        "def backward_propagation(parameters, cache, X, Y):\n",
        "    m=Y.shape[1]\n",
        "\n",
        "    W1 = parameters['W1']\n",
        "    W2 = parameters['W2']\n",
        "    W3 = parameters['W3']\n",
        "    A1 = cache['A1']\n",
        "    A2 = cache['A2']\n",
        "    A3 = cache['A3']\n",
        "    \n",
        "    dZ3=A3-Y\n",
        "    dW3=np.dot(dZ3,A2.T)/m\n",
        "    db3=np.sum(dZ3,axis=1,keepdims=True)/m\n",
        "    dZ2=np.dot(W3.T, dZ3)*sigmoidDerivative(Z2)\n",
        "    dW2=np.dot(dZ2,A1.T)/m\n",
        "    db2=np.sum(dZ2,axis=1,keepdims=True)/m\n",
        "    dZ1=np.dot(W2.T,dZ2)*sigmoidDerivative(Z1)\n",
        "    dW1=np.dot(dZ1,X.T)/m\n",
        "    db1=np.sum(dZ1,axis=1,keepdims=True)/m\n",
        "\n",
        "\n",
        "    grads = {\"dW1\": dW1, \"db1\": db1, \"dW2\": dW2, \"db2\": db2, \"dW3\": dW2, \"db3\": db2}\n",
        "    return grads"
      ],
      "execution_count": null,
      "outputs": []
    },
    {
      "cell_type": "code",
      "metadata": {
        "id": "dCNh3f4dQ-j-",
        "colab_type": "code",
        "colab": {}
      },
      "source": [
        "def update_parameters(grads, parameters, learning_rate=1.2):\n",
        "    \n",
        "    W1 = parameters['W1']\n",
        "    b1 = parameters['b1']\n",
        "    W2 = parameters['W2']\n",
        "    b2 = parameters['b2']\n",
        "    W3 = parameters['W3']\n",
        "    b3 = parameters['b3']\n",
        "   \n",
        "    dW1 = grads['dW1']\n",
        "    db1 = grads['db1']\n",
        "    dW2 = grads['dW2']\n",
        "    db2 = grads['db2']\n",
        "    dW3 = grads['dW3']\n",
        "    db3 = grads['db3']\n",
        "   \n",
        "    W1 = W1 - learning_rate * dW1\n",
        "    b1 = b1 - learning_rate * db1\n",
        "    W2 = W2 - learning_rate * dW2\n",
        "    b2 = b2 - learning_rate * db2\n",
        "    W3 = W3 - learning_rate * dW3\n",
        "    b3 = b3 - learning_rate * db3\n",
        "    \n",
        "    parameters = {\"W1\": W1, \"b1\": b1, \"W2\": W2,\"b2\": b2, \"W3\": W3,\"b3\": b3}\n",
        "    \n",
        "    return parameters"
      ],
      "execution_count": null,
      "outputs": []
    },
    {
      "cell_type": "code",
      "metadata": {
        "id": "aj824xWpRa6e",
        "colab_type": "code",
        "colab": {}
      },
      "source": [
        "def nn_model(X, Y, nh1, nh2, num_iterations = 10000, print_cost=False):\n",
        "      \n",
        "    ##intialise the layers\n",
        "    np.random.seed(3)\n",
        "    n_x = layer_sizes(X, Y)[0]\n",
        "    n_y = layer_sizes(X, Y)[2]\n",
        "    \n",
        "    # Initialize parameters\n",
        "    \n",
        "    parameters = initialize_parameters(n_x, nh1, nh2, n_y)\n",
        "        \n",
        "    # Loop (gradient descent)\n",
        "\n",
        "    for i in range(0, num_iterations):\n",
        "        \n",
        "        ##  forward propagation     \n",
        "        A3, cache = forward_propagation(X, parameters)\n",
        "        ##calculate cost\n",
        "        cost = compute_cost(A3, Y, parameters)\n",
        " \n",
        "        ##backward_propagation\n",
        "        grads = backward_propagation(parameters, cache, X, Y)\n",
        " \n",
        "        \n",
        "        parameters = update_parameters(parameters, grads)\n",
        "        \n",
        "                \n",
        "        # Print the cost every 1000 iterations\n",
        "        if print_cost and i % 1000 == 0:\n",
        "            print (\"Cost after iteration %i: %f\" %(i, cost))\n",
        "\n",
        "    return parameters"
      ],
      "execution_count": null,
      "outputs": []
    },
    {
      "cell_type": "code",
      "metadata": {
        "id": "z49-xp6DSAHA",
        "colab_type": "code",
        "colab": {}
      },
      "source": [
        "def predict(parameters, X):\n",
        "    \n",
        "    A3, cache = forward_propagation(X, parameters)\n",
        "    predictions = np.round(A3)\n",
        "        \n",
        "    return predictions"
      ],
      "execution_count": null,
      "outputs": []
    },
    {
      "cell_type": "code",
      "metadata": {
        "id": "ZNbiC07yR8J2",
        "colab_type": "code",
        "colab": {}
      },
      "source": [
        ""
      ],
      "execution_count": null,
      "outputs": []
    }
  ]
}