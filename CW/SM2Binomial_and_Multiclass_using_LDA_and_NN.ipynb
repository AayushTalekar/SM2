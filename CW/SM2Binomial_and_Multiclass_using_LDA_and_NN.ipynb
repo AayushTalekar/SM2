{
  "nbformat": 4,
  "nbformat_minor": 0,
  "metadata": {
    "colab": {
      "name": "SM2Binomial and Multiclass using LDA and NN.ipynb",
      "provenance": [],
      "authorship_tag": "ABX9TyME/6v1mk8EGx03V30WANVV",
      "include_colab_link": true
    },
    "kernelspec": {
      "name": "python3",
      "display_name": "Python 3"
    }
  },
  "cells": [
    {
      "cell_type": "markdown",
      "metadata": {
        "id": "view-in-github",
        "colab_type": "text"
      },
      "source": [
        "<a href=\"https://colab.research.google.com/github/AayushTalekar/SM2/blob/master/CW/SM2Binomial_and_Multiclass_using_LDA_and_NN.ipynb\" target=\"_parent\"><img src=\"https://colab.research.google.com/assets/colab-badge.svg\" alt=\"Open In Colab\"/></a>"
      ]
    },
    {
      "cell_type": "code",
      "metadata": {
        "id": "iLxetGykl9Z9",
        "colab_type": "code",
        "colab": {}
      },
      "source": [
        "import pandas as pd\n",
        "import numpy as np\n",
        "from keras.datasets import mnist\n",
        "from matplotlib import pyplot\n",
        "from keras import models\n",
        "from keras import layers\n",
        "from keras.utils import to_categorical\n",
        "import numpy as np\n",
        "import sklearn\n",
        "from sklearn.discriminant_analysis import LinearDiscriminantAnalysis"
      ],
      "execution_count": 13,
      "outputs": []
    },
    {
      "cell_type": "markdown",
      "metadata": {
        "id": "qwGwTwm_x0ho",
        "colab_type": "text"
      },
      "source": [
        "#Assignment 1"
      ]
    },
    {
      "cell_type": "code",
      "metadata": {
        "id": "fMC9BVc4n4Tq",
        "colab_type": "code",
        "colab": {}
      },
      "source": [
        "df = pd.read_excel('/content/case 2.xlsx')"
      ],
      "execution_count": 175,
      "outputs": []
    },
    {
      "cell_type": "code",
      "metadata": {
        "id": "xNEw6JRUoQrr",
        "colab_type": "code",
        "colab": {
          "base_uri": "https://localhost:8080/",
          "height": 191
        },
        "outputId": "6ddf9c9e-5f0d-4ee5-c116-73977263c2fc"
      },
      "source": [
        "df.dtypes"
      ],
      "execution_count": 176,
      "outputs": [
        {
          "output_type": "execute_result",
          "data": {
            "text/plain": [
              "V1            int64\n",
              "V2            int64\n",
              "V3            int64\n",
              "V4            int64\n",
              "V5            int64\n",
              "V6          float64\n",
              "V7          float64\n",
              "V8            int64\n",
              "OutComes      int64\n",
              "dtype: object"
            ]
          },
          "metadata": {
            "tags": []
          },
          "execution_count": 176
        }
      ]
    },
    {
      "cell_type": "code",
      "metadata": {
        "id": "uhyzGOHWog7L",
        "colab_type": "code",
        "colab": {}
      },
      "source": [
        "x = df.drop('OutComes', axis=1)"
      ],
      "execution_count": 177,
      "outputs": []
    },
    {
      "cell_type": "code",
      "metadata": {
        "id": "q0Jf-GDupmlL",
        "colab_type": "code",
        "colab": {}
      },
      "source": [
        "y = df['OutComes']"
      ],
      "execution_count": 178,
      "outputs": []
    },
    {
      "cell_type": "code",
      "metadata": {
        "id": "E2rVLDPCp4ju",
        "colab_type": "code",
        "colab": {
          "base_uri": "https://localhost:8080/",
          "height": 35
        },
        "outputId": "e3b94684-0b3f-47e3-99c9-e0b624c3ce16"
      },
      "source": [
        "x.shape"
      ],
      "execution_count": 179,
      "outputs": [
        {
          "output_type": "execute_result",
          "data": {
            "text/plain": [
              "(768, 8)"
            ]
          },
          "metadata": {
            "tags": []
          },
          "execution_count": 179
        }
      ]
    },
    {
      "cell_type": "code",
      "metadata": {
        "id": "egS62BjUp6Eb",
        "colab_type": "code",
        "colab": {
          "base_uri": "https://localhost:8080/",
          "height": 35
        },
        "outputId": "51093435-3156-4bc1-cd86-976c1ca02822"
      },
      "source": [
        "y.shape"
      ],
      "execution_count": 180,
      "outputs": [
        {
          "output_type": "execute_result",
          "data": {
            "text/plain": [
              "(768,)"
            ]
          },
          "metadata": {
            "tags": []
          },
          "execution_count": 180
        }
      ]
    },
    {
      "cell_type": "markdown",
      "metadata": {
        "id": "x7VYIoCytrAO",
        "colab_type": "text"
      },
      "source": [
        "#LDA"
      ]
    },
    {
      "cell_type": "code",
      "metadata": {
        "id": "bS9XjyXWp67M",
        "colab_type": "code",
        "colab": {}
      },
      "source": [
        "clf = LinearDiscriminantAnalysis()\n",
        "clf.fit(x,y)\n",
        "ypred = clf.predict(x)"
      ],
      "execution_count": 181,
      "outputs": []
    },
    {
      "cell_type": "code",
      "metadata": {
        "id": "0IqI6dzSqJTk",
        "colab_type": "code",
        "colab": {
          "base_uri": "https://localhost:8080/",
          "height": 35
        },
        "outputId": "81728b9c-9fe3-4e15-d2e4-7fc506a74bb8"
      },
      "source": [
        "print ('Accuracy: %d' % float((np.dot(y, ypred.T) + np.dot(1 - y, 1 - ypred.T)) / float(y.size) * 100) + '%')"
      ],
      "execution_count": 182,
      "outputs": [
        {
          "output_type": "stream",
          "text": [
            "Accuracy: 78%\n"
          ],
          "name": "stdout"
        }
      ]
    },
    {
      "cell_type": "markdown",
      "metadata": {
        "id": "qgarUXRAttXF",
        "colab_type": "text"
      },
      "source": [
        "#Neural Networks"
      ]
    },
    {
      "cell_type": "code",
      "metadata": {
        "id": "b4qB-xH0qLRz",
        "colab_type": "code",
        "colab": {}
      },
      "source": [
        "nn = models.Sequential()\n",
        "nn.add(layers.Dense(128, activation='relu', input_shape=(8,)))\n",
        "nn.add(layers.Dense(64, activation='relu'))\n",
        "nn.add(layers.Dense(32, activation='relu'))\n",
        "nn.add(layers.Dense(1, activation='sigmoid'))"
      ],
      "execution_count": 199,
      "outputs": []
    },
    {
      "cell_type": "code",
      "metadata": {
        "id": "i3VIcfm7smT6",
        "colab_type": "code",
        "colab": {
          "base_uri": "https://localhost:8080/",
          "height": 295
        },
        "outputId": "b9ee11c6-5447-469b-eb3f-f6c234736d7a"
      },
      "source": [
        "nn.summary()"
      ],
      "execution_count": 200,
      "outputs": [
        {
          "output_type": "stream",
          "text": [
            "Model: \"sequential_24\"\n",
            "_________________________________________________________________\n",
            "Layer (type)                 Output Shape              Param #   \n",
            "=================================================================\n",
            "dense_80 (Dense)             (None, 128)               1152      \n",
            "_________________________________________________________________\n",
            "dense_81 (Dense)             (None, 64)                8256      \n",
            "_________________________________________________________________\n",
            "dense_82 (Dense)             (None, 32)                2080      \n",
            "_________________________________________________________________\n",
            "dense_83 (Dense)             (None, 1)                 33        \n",
            "=================================================================\n",
            "Total params: 11,521\n",
            "Trainable params: 11,521\n",
            "Non-trainable params: 0\n",
            "_________________________________________________________________\n"
          ],
          "name": "stdout"
        }
      ]
    },
    {
      "cell_type": "code",
      "metadata": {
        "id": "XPw6M0oWs3os",
        "colab_type": "code",
        "colab": {}
      },
      "source": [
        "nn.compile(optimizer='rmsprop', loss='binary_crossentropy', metrics=['accuracy'])"
      ],
      "execution_count": 201,
      "outputs": []
    },
    {
      "cell_type": "code",
      "metadata": {
        "id": "we_N3w2DtPNf",
        "colab_type": "code",
        "colab": {
          "base_uri": "https://localhost:8080/",
          "height": 1000
        },
        "outputId": "245a988b-9a5e-46ea-c766-eb5de0f4c666"
      },
      "source": [
        "nn.fit(x, y, epochs=512, batch_size=32)"
      ],
      "execution_count": 202,
      "outputs": [
        {
          "output_type": "stream",
          "text": [
            "Epoch 1/512\n",
            "24/24 [==============================] - 0s 2ms/step - loss: 1.6372 - accuracy: 0.5990\n",
            "Epoch 2/512\n",
            "24/24 [==============================] - 0s 1ms/step - loss: 0.8100 - accuracy: 0.6211\n",
            "Epoch 3/512\n",
            "24/24 [==============================] - 0s 1ms/step - loss: 0.7833 - accuracy: 0.6523\n",
            "Epoch 4/512\n",
            "24/24 [==============================] - 0s 1ms/step - loss: 0.7440 - accuracy: 0.6406\n",
            "Epoch 5/512\n",
            "24/24 [==============================] - 0s 1ms/step - loss: 0.7608 - accuracy: 0.6523\n",
            "Epoch 6/512\n",
            "24/24 [==============================] - 0s 1ms/step - loss: 0.7117 - accuracy: 0.6328\n",
            "Epoch 7/512\n",
            "24/24 [==============================] - 0s 1ms/step - loss: 0.6790 - accuracy: 0.6680\n",
            "Epoch 8/512\n",
            "24/24 [==============================] - 0s 1ms/step - loss: 0.6794 - accuracy: 0.6576\n",
            "Epoch 9/512\n",
            "24/24 [==============================] - 0s 1ms/step - loss: 0.6506 - accuracy: 0.6615\n",
            "Epoch 10/512\n",
            "24/24 [==============================] - 0s 1ms/step - loss: 0.6696 - accuracy: 0.6641\n",
            "Epoch 11/512\n",
            "24/24 [==============================] - 0s 1ms/step - loss: 0.6349 - accuracy: 0.6641\n",
            "Epoch 12/512\n",
            "24/24 [==============================] - 0s 1ms/step - loss: 0.6122 - accuracy: 0.6940\n",
            "Epoch 13/512\n",
            "24/24 [==============================] - 0s 1ms/step - loss: 0.6365 - accuracy: 0.6862\n",
            "Epoch 14/512\n",
            "24/24 [==============================] - 0s 1ms/step - loss: 0.6270 - accuracy: 0.6706\n",
            "Epoch 15/512\n",
            "24/24 [==============================] - 0s 1ms/step - loss: 0.6124 - accuracy: 0.6992\n",
            "Epoch 16/512\n",
            "24/24 [==============================] - 0s 1ms/step - loss: 0.6003 - accuracy: 0.6966\n",
            "Epoch 17/512\n",
            "24/24 [==============================] - 0s 1ms/step - loss: 0.6102 - accuracy: 0.6888\n",
            "Epoch 18/512\n",
            "24/24 [==============================] - 0s 1ms/step - loss: 0.6093 - accuracy: 0.6810\n",
            "Epoch 19/512\n",
            "24/24 [==============================] - 0s 1ms/step - loss: 0.5881 - accuracy: 0.6966\n",
            "Epoch 20/512\n",
            "24/24 [==============================] - 0s 1ms/step - loss: 0.5689 - accuracy: 0.7344\n",
            "Epoch 21/512\n",
            "24/24 [==============================] - 0s 1ms/step - loss: 0.5757 - accuracy: 0.7083\n",
            "Epoch 22/512\n",
            "24/24 [==============================] - 0s 1ms/step - loss: 0.5890 - accuracy: 0.7083\n",
            "Epoch 23/512\n",
            "24/24 [==============================] - 0s 1ms/step - loss: 0.5841 - accuracy: 0.6979\n",
            "Epoch 24/512\n",
            "24/24 [==============================] - 0s 1ms/step - loss: 0.5682 - accuracy: 0.7044\n",
            "Epoch 25/512\n",
            "24/24 [==============================] - 0s 1ms/step - loss: 0.5666 - accuracy: 0.7148\n",
            "Epoch 26/512\n",
            "24/24 [==============================] - 0s 1ms/step - loss: 0.5787 - accuracy: 0.6953\n",
            "Epoch 27/512\n",
            "24/24 [==============================] - 0s 1ms/step - loss: 0.5729 - accuracy: 0.7070\n",
            "Epoch 28/512\n",
            "24/24 [==============================] - 0s 1ms/step - loss: 0.5635 - accuracy: 0.7227\n",
            "Epoch 29/512\n",
            "24/24 [==============================] - 0s 1ms/step - loss: 0.5642 - accuracy: 0.7161\n",
            "Epoch 30/512\n",
            "24/24 [==============================] - 0s 1ms/step - loss: 0.5686 - accuracy: 0.6992\n",
            "Epoch 31/512\n",
            "24/24 [==============================] - 0s 1ms/step - loss: 0.5581 - accuracy: 0.7188\n",
            "Epoch 32/512\n",
            "24/24 [==============================] - 0s 1ms/step - loss: 0.5723 - accuracy: 0.7201\n",
            "Epoch 33/512\n",
            "24/24 [==============================] - 0s 1ms/step - loss: 0.5543 - accuracy: 0.7122\n",
            "Epoch 34/512\n",
            "24/24 [==============================] - 0s 1ms/step - loss: 0.5538 - accuracy: 0.7318\n",
            "Epoch 35/512\n",
            "24/24 [==============================] - 0s 1ms/step - loss: 0.5528 - accuracy: 0.7240\n",
            "Epoch 36/512\n",
            "24/24 [==============================] - 0s 1ms/step - loss: 0.5523 - accuracy: 0.7331\n",
            "Epoch 37/512\n",
            "24/24 [==============================] - 0s 1ms/step - loss: 0.5481 - accuracy: 0.7318\n",
            "Epoch 38/512\n",
            "24/24 [==============================] - 0s 1ms/step - loss: 0.5493 - accuracy: 0.7318\n",
            "Epoch 39/512\n",
            "24/24 [==============================] - 0s 1ms/step - loss: 0.5514 - accuracy: 0.7227\n",
            "Epoch 40/512\n",
            "24/24 [==============================] - 0s 1ms/step - loss: 0.5332 - accuracy: 0.7409\n",
            "Epoch 41/512\n",
            "24/24 [==============================] - 0s 1ms/step - loss: 0.5448 - accuracy: 0.7383\n",
            "Epoch 42/512\n",
            "24/24 [==============================] - 0s 1ms/step - loss: 0.5367 - accuracy: 0.7435\n",
            "Epoch 43/512\n",
            "24/24 [==============================] - 0s 1ms/step - loss: 0.5423 - accuracy: 0.7383\n",
            "Epoch 44/512\n",
            "24/24 [==============================] - 0s 1ms/step - loss: 0.5352 - accuracy: 0.7253\n",
            "Epoch 45/512\n",
            "24/24 [==============================] - 0s 1ms/step - loss: 0.5498 - accuracy: 0.7396\n",
            "Epoch 46/512\n",
            "24/24 [==============================] - 0s 1ms/step - loss: 0.5274 - accuracy: 0.7422\n",
            "Epoch 47/512\n",
            "24/24 [==============================] - 0s 1ms/step - loss: 0.5397 - accuracy: 0.7279\n",
            "Epoch 48/512\n",
            "24/24 [==============================] - 0s 991us/step - loss: 0.5259 - accuracy: 0.7526\n",
            "Epoch 49/512\n",
            "24/24 [==============================] - 0s 1ms/step - loss: 0.5423 - accuracy: 0.7344\n",
            "Epoch 50/512\n",
            "24/24 [==============================] - 0s 1ms/step - loss: 0.5500 - accuracy: 0.7253\n",
            "Epoch 51/512\n",
            "24/24 [==============================] - 0s 1ms/step - loss: 0.5252 - accuracy: 0.7383\n",
            "Epoch 52/512\n",
            "24/24 [==============================] - 0s 1ms/step - loss: 0.5332 - accuracy: 0.7305\n",
            "Epoch 53/512\n",
            "24/24 [==============================] - 0s 1ms/step - loss: 0.5238 - accuracy: 0.7448\n",
            "Epoch 54/512\n",
            "24/24 [==============================] - 0s 1ms/step - loss: 0.5394 - accuracy: 0.7422\n",
            "Epoch 55/512\n",
            "24/24 [==============================] - 0s 1ms/step - loss: 0.5173 - accuracy: 0.7526\n",
            "Epoch 56/512\n",
            "24/24 [==============================] - 0s 1ms/step - loss: 0.5252 - accuracy: 0.7435\n",
            "Epoch 57/512\n",
            "24/24 [==============================] - 0s 1ms/step - loss: 0.5302 - accuracy: 0.7500\n",
            "Epoch 58/512\n",
            "24/24 [==============================] - 0s 1ms/step - loss: 0.5201 - accuracy: 0.7435\n",
            "Epoch 59/512\n",
            "24/24 [==============================] - 0s 1ms/step - loss: 0.5132 - accuracy: 0.7487\n",
            "Epoch 60/512\n",
            "24/24 [==============================] - 0s 1ms/step - loss: 0.5259 - accuracy: 0.7174\n",
            "Epoch 61/512\n",
            "24/24 [==============================] - 0s 2ms/step - loss: 0.5229 - accuracy: 0.7396\n",
            "Epoch 62/512\n",
            "24/24 [==============================] - 0s 1ms/step - loss: 0.4977 - accuracy: 0.7539\n",
            "Epoch 63/512\n",
            "24/24 [==============================] - 0s 1ms/step - loss: 0.5122 - accuracy: 0.7474\n",
            "Epoch 64/512\n",
            "24/24 [==============================] - 0s 1ms/step - loss: 0.5132 - accuracy: 0.7539\n",
            "Epoch 65/512\n",
            "24/24 [==============================] - 0s 1ms/step - loss: 0.5140 - accuracy: 0.7357\n",
            "Epoch 66/512\n",
            "24/24 [==============================] - 0s 1ms/step - loss: 0.5074 - accuracy: 0.7448\n",
            "Epoch 67/512\n",
            "24/24 [==============================] - 0s 1ms/step - loss: 0.5123 - accuracy: 0.7578\n",
            "Epoch 68/512\n",
            "24/24 [==============================] - 0s 1ms/step - loss: 0.5015 - accuracy: 0.7656\n",
            "Epoch 69/512\n",
            "24/24 [==============================] - 0s 1ms/step - loss: 0.5067 - accuracy: 0.7474\n",
            "Epoch 70/512\n",
            "24/24 [==============================] - 0s 1ms/step - loss: 0.5019 - accuracy: 0.7539\n",
            "Epoch 71/512\n",
            "24/24 [==============================] - 0s 1ms/step - loss: 0.5113 - accuracy: 0.7500\n",
            "Epoch 72/512\n",
            "24/24 [==============================] - 0s 1ms/step - loss: 0.5057 - accuracy: 0.7474\n",
            "Epoch 73/512\n",
            "24/24 [==============================] - 0s 1ms/step - loss: 0.4998 - accuracy: 0.7682\n",
            "Epoch 74/512\n",
            "24/24 [==============================] - 0s 1ms/step - loss: 0.5001 - accuracy: 0.7656\n",
            "Epoch 75/512\n",
            "24/24 [==============================] - 0s 1ms/step - loss: 0.5175 - accuracy: 0.7409\n",
            "Epoch 76/512\n",
            "24/24 [==============================] - 0s 1ms/step - loss: 0.4978 - accuracy: 0.7734\n",
            "Epoch 77/512\n",
            "24/24 [==============================] - 0s 1ms/step - loss: 0.4925 - accuracy: 0.7552\n",
            "Epoch 78/512\n",
            "24/24 [==============================] - 0s 1ms/step - loss: 0.4940 - accuracy: 0.7630\n",
            "Epoch 79/512\n",
            "24/24 [==============================] - 0s 1ms/step - loss: 0.4898 - accuracy: 0.7773\n",
            "Epoch 80/512\n",
            "24/24 [==============================] - 0s 1ms/step - loss: 0.4984 - accuracy: 0.7578\n",
            "Epoch 81/512\n",
            "24/24 [==============================] - 0s 1ms/step - loss: 0.4853 - accuracy: 0.7617\n",
            "Epoch 82/512\n",
            "24/24 [==============================] - 0s 1ms/step - loss: 0.4979 - accuracy: 0.7565\n",
            "Epoch 83/512\n",
            "24/24 [==============================] - 0s 1ms/step - loss: 0.4949 - accuracy: 0.7474\n",
            "Epoch 84/512\n",
            "24/24 [==============================] - 0s 1ms/step - loss: 0.4826 - accuracy: 0.7682\n",
            "Epoch 85/512\n",
            "24/24 [==============================] - 0s 1ms/step - loss: 0.4930 - accuracy: 0.7513\n",
            "Epoch 86/512\n",
            "24/24 [==============================] - 0s 1ms/step - loss: 0.4881 - accuracy: 0.7617\n",
            "Epoch 87/512\n",
            "24/24 [==============================] - 0s 1ms/step - loss: 0.4819 - accuracy: 0.7630\n",
            "Epoch 88/512\n",
            "24/24 [==============================] - 0s 1ms/step - loss: 0.4819 - accuracy: 0.7695\n",
            "Epoch 89/512\n",
            "24/24 [==============================] - 0s 1ms/step - loss: 0.4736 - accuracy: 0.7695\n",
            "Epoch 90/512\n",
            "24/24 [==============================] - 0s 2ms/step - loss: 0.4788 - accuracy: 0.7617\n",
            "Epoch 91/512\n",
            "24/24 [==============================] - 0s 1ms/step - loss: 0.4792 - accuracy: 0.7695\n",
            "Epoch 92/512\n",
            "24/24 [==============================] - 0s 1ms/step - loss: 0.4764 - accuracy: 0.7669\n",
            "Epoch 93/512\n",
            "24/24 [==============================] - 0s 1ms/step - loss: 0.4760 - accuracy: 0.7539\n",
            "Epoch 94/512\n",
            "24/24 [==============================] - 0s 1ms/step - loss: 0.4668 - accuracy: 0.7604\n",
            "Epoch 95/512\n",
            "24/24 [==============================] - 0s 1ms/step - loss: 0.4737 - accuracy: 0.7708\n",
            "Epoch 96/512\n",
            "24/24 [==============================] - 0s 1ms/step - loss: 0.4732 - accuracy: 0.7656\n",
            "Epoch 97/512\n",
            "24/24 [==============================] - 0s 1ms/step - loss: 0.4820 - accuracy: 0.7669\n",
            "Epoch 98/512\n",
            "24/24 [==============================] - 0s 1ms/step - loss: 0.4639 - accuracy: 0.7656\n",
            "Epoch 99/512\n",
            "24/24 [==============================] - 0s 1ms/step - loss: 0.4757 - accuracy: 0.7812\n",
            "Epoch 100/512\n",
            "24/24 [==============================] - 0s 1ms/step - loss: 0.4558 - accuracy: 0.7930\n",
            "Epoch 101/512\n",
            "24/24 [==============================] - 0s 1ms/step - loss: 0.4736 - accuracy: 0.7656\n",
            "Epoch 102/512\n",
            "24/24 [==============================] - 0s 1ms/step - loss: 0.4656 - accuracy: 0.7695\n",
            "Epoch 103/512\n",
            "24/24 [==============================] - 0s 1ms/step - loss: 0.4681 - accuracy: 0.7799\n",
            "Epoch 104/512\n",
            "24/24 [==============================] - 0s 1ms/step - loss: 0.4763 - accuracy: 0.7643\n",
            "Epoch 105/512\n",
            "24/24 [==============================] - 0s 1ms/step - loss: 0.4603 - accuracy: 0.7839\n",
            "Epoch 106/512\n",
            "24/24 [==============================] - 0s 1ms/step - loss: 0.4607 - accuracy: 0.7878\n",
            "Epoch 107/512\n",
            "24/24 [==============================] - 0s 1ms/step - loss: 0.4602 - accuracy: 0.7760\n",
            "Epoch 108/512\n",
            "24/24 [==============================] - 0s 1ms/step - loss: 0.4534 - accuracy: 0.7669\n",
            "Epoch 109/512\n",
            "24/24 [==============================] - 0s 1ms/step - loss: 0.4472 - accuracy: 0.7799\n",
            "Epoch 110/512\n",
            "24/24 [==============================] - 0s 1ms/step - loss: 0.4661 - accuracy: 0.7891\n",
            "Epoch 111/512\n",
            "24/24 [==============================] - 0s 1ms/step - loss: 0.4407 - accuracy: 0.7917\n",
            "Epoch 112/512\n",
            "24/24 [==============================] - 0s 1ms/step - loss: 0.4545 - accuracy: 0.7852\n",
            "Epoch 113/512\n",
            "24/24 [==============================] - 0s 1ms/step - loss: 0.4456 - accuracy: 0.7865\n",
            "Epoch 114/512\n",
            "24/24 [==============================] - 0s 1ms/step - loss: 0.4574 - accuracy: 0.7760\n",
            "Epoch 115/512\n",
            "24/24 [==============================] - 0s 1ms/step - loss: 0.4500 - accuracy: 0.7695\n",
            "Epoch 116/512\n",
            "24/24 [==============================] - 0s 1ms/step - loss: 0.4458 - accuracy: 0.7930\n",
            "Epoch 117/512\n",
            "24/24 [==============================] - 0s 1ms/step - loss: 0.4353 - accuracy: 0.7812\n",
            "Epoch 118/512\n",
            "24/24 [==============================] - 0s 1ms/step - loss: 0.4610 - accuracy: 0.7839\n",
            "Epoch 119/512\n",
            "24/24 [==============================] - 0s 1ms/step - loss: 0.4468 - accuracy: 0.7786\n",
            "Epoch 120/512\n",
            "24/24 [==============================] - 0s 1ms/step - loss: 0.4461 - accuracy: 0.7747\n",
            "Epoch 121/512\n",
            "24/24 [==============================] - 0s 1ms/step - loss: 0.4387 - accuracy: 0.7956\n",
            "Epoch 122/512\n",
            "24/24 [==============================] - 0s 1ms/step - loss: 0.4368 - accuracy: 0.7799\n",
            "Epoch 123/512\n",
            "24/24 [==============================] - 0s 1ms/step - loss: 0.4307 - accuracy: 0.8047\n",
            "Epoch 124/512\n",
            "24/24 [==============================] - 0s 1ms/step - loss: 0.4301 - accuracy: 0.8008\n",
            "Epoch 125/512\n",
            "24/24 [==============================] - 0s 1ms/step - loss: 0.4647 - accuracy: 0.7891\n",
            "Epoch 126/512\n",
            "24/24 [==============================] - 0s 1ms/step - loss: 0.4664 - accuracy: 0.7812\n",
            "Epoch 127/512\n",
            "24/24 [==============================] - 0s 1ms/step - loss: 0.4382 - accuracy: 0.7956\n",
            "Epoch 128/512\n",
            "24/24 [==============================] - 0s 1ms/step - loss: 0.4231 - accuracy: 0.7982\n",
            "Epoch 129/512\n",
            "24/24 [==============================] - 0s 1ms/step - loss: 0.4424 - accuracy: 0.7878\n",
            "Epoch 130/512\n",
            "24/24 [==============================] - 0s 1ms/step - loss: 0.4325 - accuracy: 0.7956\n",
            "Epoch 131/512\n",
            "24/24 [==============================] - 0s 1ms/step - loss: 0.4248 - accuracy: 0.7904\n",
            "Epoch 132/512\n",
            "24/24 [==============================] - 0s 1ms/step - loss: 0.4148 - accuracy: 0.8060\n",
            "Epoch 133/512\n",
            "24/24 [==============================] - 0s 1ms/step - loss: 0.4408 - accuracy: 0.7826\n",
            "Epoch 134/512\n",
            "24/24 [==============================] - 0s 1ms/step - loss: 0.4242 - accuracy: 0.7943\n",
            "Epoch 135/512\n",
            "24/24 [==============================] - 0s 1ms/step - loss: 0.4166 - accuracy: 0.7969\n",
            "Epoch 136/512\n",
            "24/24 [==============================] - 0s 1ms/step - loss: 0.4386 - accuracy: 0.7878\n",
            "Epoch 137/512\n",
            "24/24 [==============================] - 0s 1ms/step - loss: 0.4326 - accuracy: 0.8073\n",
            "Epoch 138/512\n",
            "24/24 [==============================] - 0s 1ms/step - loss: 0.4164 - accuracy: 0.8047\n",
            "Epoch 139/512\n",
            "24/24 [==============================] - 0s 1ms/step - loss: 0.4230 - accuracy: 0.7982\n",
            "Epoch 140/512\n",
            "24/24 [==============================] - 0s 1ms/step - loss: 0.4077 - accuracy: 0.8073\n",
            "Epoch 141/512\n",
            "24/24 [==============================] - 0s 1ms/step - loss: 0.4230 - accuracy: 0.8047\n",
            "Epoch 142/512\n",
            "24/24 [==============================] - 0s 1ms/step - loss: 0.4044 - accuracy: 0.7995\n",
            "Epoch 143/512\n",
            "24/24 [==============================] - 0s 1ms/step - loss: 0.4183 - accuracy: 0.8021\n",
            "Epoch 144/512\n",
            "24/24 [==============================] - 0s 1ms/step - loss: 0.4085 - accuracy: 0.8034\n",
            "Epoch 145/512\n",
            "24/24 [==============================] - 0s 1ms/step - loss: 0.4111 - accuracy: 0.8060\n",
            "Epoch 146/512\n",
            "24/24 [==============================] - 0s 1ms/step - loss: 0.4014 - accuracy: 0.8203\n",
            "Epoch 147/512\n",
            "24/24 [==============================] - 0s 1ms/step - loss: 0.4157 - accuracy: 0.7826\n",
            "Epoch 148/512\n",
            "24/24 [==============================] - 0s 1ms/step - loss: 0.3960 - accuracy: 0.8021\n",
            "Epoch 149/512\n",
            "24/24 [==============================] - 0s 1ms/step - loss: 0.4083 - accuracy: 0.8034\n",
            "Epoch 150/512\n",
            "24/24 [==============================] - 0s 1ms/step - loss: 0.4204 - accuracy: 0.7982\n",
            "Epoch 151/512\n",
            "24/24 [==============================] - 0s 1ms/step - loss: 0.4060 - accuracy: 0.8190\n",
            "Epoch 152/512\n",
            "24/24 [==============================] - 0s 1ms/step - loss: 0.3908 - accuracy: 0.8164\n",
            "Epoch 153/512\n",
            "24/24 [==============================] - 0s 1ms/step - loss: 0.4040 - accuracy: 0.7917\n",
            "Epoch 154/512\n",
            "24/24 [==============================] - 0s 1ms/step - loss: 0.3997 - accuracy: 0.8138\n",
            "Epoch 155/512\n",
            "24/24 [==============================] - 0s 1ms/step - loss: 0.4128 - accuracy: 0.8060\n",
            "Epoch 156/512\n",
            "24/24 [==============================] - 0s 1ms/step - loss: 0.4193 - accuracy: 0.8203\n",
            "Epoch 157/512\n",
            "24/24 [==============================] - 0s 1ms/step - loss: 0.3867 - accuracy: 0.8151\n",
            "Epoch 158/512\n",
            "24/24 [==============================] - 0s 1ms/step - loss: 0.3992 - accuracy: 0.8047\n",
            "Epoch 159/512\n",
            "24/24 [==============================] - 0s 1ms/step - loss: 0.4091 - accuracy: 0.8242\n",
            "Epoch 160/512\n",
            "24/24 [==============================] - 0s 1ms/step - loss: 0.3910 - accuracy: 0.8229\n",
            "Epoch 161/512\n",
            "24/24 [==============================] - 0s 1ms/step - loss: 0.4051 - accuracy: 0.8138\n",
            "Epoch 162/512\n",
            "24/24 [==============================] - 0s 1ms/step - loss: 0.4008 - accuracy: 0.8034\n",
            "Epoch 163/512\n",
            "24/24 [==============================] - 0s 1ms/step - loss: 0.3969 - accuracy: 0.8151\n",
            "Epoch 164/512\n",
            "24/24 [==============================] - 0s 1ms/step - loss: 0.4062 - accuracy: 0.8008\n",
            "Epoch 165/512\n",
            "24/24 [==============================] - 0s 1ms/step - loss: 0.4097 - accuracy: 0.8125\n",
            "Epoch 166/512\n",
            "24/24 [==============================] - 0s 1ms/step - loss: 0.3719 - accuracy: 0.8229\n",
            "Epoch 167/512\n",
            "24/24 [==============================] - 0s 1ms/step - loss: 0.4059 - accuracy: 0.8073\n",
            "Epoch 168/512\n",
            "24/24 [==============================] - 0s 1ms/step - loss: 0.4065 - accuracy: 0.8177\n",
            "Epoch 169/512\n",
            "24/24 [==============================] - 0s 1ms/step - loss: 0.4155 - accuracy: 0.8060\n",
            "Epoch 170/512\n",
            "24/24 [==============================] - 0s 1ms/step - loss: 0.3922 - accuracy: 0.8125\n",
            "Epoch 171/512\n",
            "24/24 [==============================] - 0s 1ms/step - loss: 0.3920 - accuracy: 0.8151\n",
            "Epoch 172/512\n",
            "24/24 [==============================] - 0s 1ms/step - loss: 0.4027 - accuracy: 0.8151\n",
            "Epoch 173/512\n",
            "24/24 [==============================] - 0s 1ms/step - loss: 0.3836 - accuracy: 0.8203\n",
            "Epoch 174/512\n",
            "24/24 [==============================] - 0s 1ms/step - loss: 0.3774 - accuracy: 0.8099\n",
            "Epoch 175/512\n",
            "24/24 [==============================] - 0s 1ms/step - loss: 0.3947 - accuracy: 0.8203\n",
            "Epoch 176/512\n",
            "24/24 [==============================] - 0s 1ms/step - loss: 0.3885 - accuracy: 0.8034\n",
            "Epoch 177/512\n",
            "24/24 [==============================] - 0s 1ms/step - loss: 0.3893 - accuracy: 0.8203\n",
            "Epoch 178/512\n",
            "24/24 [==============================] - 0s 1ms/step - loss: 0.3665 - accuracy: 0.8294\n",
            "Epoch 179/512\n",
            "24/24 [==============================] - 0s 1ms/step - loss: 0.3864 - accuracy: 0.8151\n",
            "Epoch 180/512\n",
            "24/24 [==============================] - 0s 1ms/step - loss: 0.3974 - accuracy: 0.8229\n",
            "Epoch 181/512\n",
            "24/24 [==============================] - 0s 1ms/step - loss: 0.3852 - accuracy: 0.8073\n",
            "Epoch 182/512\n",
            "24/24 [==============================] - 0s 1ms/step - loss: 0.3908 - accuracy: 0.8138\n",
            "Epoch 183/512\n",
            "24/24 [==============================] - 0s 1ms/step - loss: 0.3756 - accuracy: 0.8294\n",
            "Epoch 184/512\n",
            "24/24 [==============================] - 0s 1ms/step - loss: 0.3771 - accuracy: 0.8151\n",
            "Epoch 185/512\n",
            "24/24 [==============================] - 0s 1ms/step - loss: 0.3776 - accuracy: 0.8060\n",
            "Epoch 186/512\n",
            "24/24 [==============================] - 0s 1ms/step - loss: 0.3822 - accuracy: 0.8242\n",
            "Epoch 187/512\n",
            "24/24 [==============================] - 0s 1ms/step - loss: 0.3673 - accuracy: 0.8203\n",
            "Epoch 188/512\n",
            "24/24 [==============================] - 0s 1ms/step - loss: 0.3745 - accuracy: 0.8268\n",
            "Epoch 189/512\n",
            "24/24 [==============================] - 0s 1ms/step - loss: 0.3946 - accuracy: 0.8255\n",
            "Epoch 190/512\n",
            "24/24 [==============================] - 0s 1ms/step - loss: 0.3631 - accuracy: 0.8190\n",
            "Epoch 191/512\n",
            "24/24 [==============================] - 0s 1ms/step - loss: 0.3718 - accuracy: 0.8203\n",
            "Epoch 192/512\n",
            "24/24 [==============================] - 0s 1ms/step - loss: 0.3654 - accuracy: 0.8190\n",
            "Epoch 193/512\n",
            "24/24 [==============================] - 0s 1ms/step - loss: 0.3657 - accuracy: 0.8229\n",
            "Epoch 194/512\n",
            "24/24 [==============================] - 0s 1ms/step - loss: 0.3775 - accuracy: 0.8229\n",
            "Epoch 195/512\n",
            "24/24 [==============================] - 0s 1ms/step - loss: 0.3711 - accuracy: 0.8112\n",
            "Epoch 196/512\n",
            "24/24 [==============================] - 0s 1ms/step - loss: 0.3696 - accuracy: 0.8268\n",
            "Epoch 197/512\n",
            "24/24 [==============================] - 0s 1ms/step - loss: 0.3790 - accuracy: 0.8268\n",
            "Epoch 198/512\n",
            "24/24 [==============================] - 0s 1ms/step - loss: 0.3470 - accuracy: 0.8346\n",
            "Epoch 199/512\n",
            "24/24 [==============================] - 0s 1ms/step - loss: 0.3583 - accuracy: 0.8268\n",
            "Epoch 200/512\n",
            "24/24 [==============================] - 0s 1ms/step - loss: 0.3666 - accuracy: 0.8255\n",
            "Epoch 201/512\n",
            "24/24 [==============================] - 0s 1ms/step - loss: 0.3625 - accuracy: 0.8503\n",
            "Epoch 202/512\n",
            "24/24 [==============================] - 0s 1ms/step - loss: 0.3591 - accuracy: 0.8268\n",
            "Epoch 203/512\n",
            "24/24 [==============================] - 0s 1ms/step - loss: 0.3743 - accuracy: 0.8125\n",
            "Epoch 204/512\n",
            "24/24 [==============================] - 0s 1ms/step - loss: 0.3491 - accuracy: 0.8281\n",
            "Epoch 205/512\n",
            "24/24 [==============================] - 0s 1ms/step - loss: 0.3532 - accuracy: 0.8359\n",
            "Epoch 206/512\n",
            "24/24 [==============================] - 0s 1ms/step - loss: 0.3640 - accuracy: 0.8203\n",
            "Epoch 207/512\n",
            "24/24 [==============================] - 0s 1ms/step - loss: 0.3597 - accuracy: 0.8229\n",
            "Epoch 208/512\n",
            "24/24 [==============================] - 0s 1ms/step - loss: 0.3525 - accuracy: 0.8333\n",
            "Epoch 209/512\n",
            "24/24 [==============================] - 0s 1ms/step - loss: 0.3514 - accuracy: 0.8320\n",
            "Epoch 210/512\n",
            "24/24 [==============================] - 0s 1ms/step - loss: 0.3487 - accuracy: 0.8346\n",
            "Epoch 211/512\n",
            "24/24 [==============================] - 0s 1ms/step - loss: 0.3514 - accuracy: 0.8281\n",
            "Epoch 212/512\n",
            "24/24 [==============================] - 0s 1ms/step - loss: 0.3651 - accuracy: 0.8151\n",
            "Epoch 213/512\n",
            "24/24 [==============================] - 0s 1ms/step - loss: 0.3476 - accuracy: 0.8438\n",
            "Epoch 214/512\n",
            "24/24 [==============================] - 0s 1ms/step - loss: 0.3504 - accuracy: 0.8385\n",
            "Epoch 215/512\n",
            "24/24 [==============================] - 0s 1ms/step - loss: 0.3770 - accuracy: 0.8255\n",
            "Epoch 216/512\n",
            "24/24 [==============================] - 0s 1ms/step - loss: 0.3509 - accuracy: 0.8438\n",
            "Epoch 217/512\n",
            "24/24 [==============================] - 0s 1ms/step - loss: 0.3425 - accuracy: 0.8307\n",
            "Epoch 218/512\n",
            "24/24 [==============================] - 0s 1ms/step - loss: 0.3703 - accuracy: 0.8333\n",
            "Epoch 219/512\n",
            "24/24 [==============================] - 0s 1ms/step - loss: 0.3483 - accuracy: 0.8385\n",
            "Epoch 220/512\n",
            "24/24 [==============================] - 0s 1ms/step - loss: 0.3400 - accuracy: 0.8320\n",
            "Epoch 221/512\n",
            "24/24 [==============================] - 0s 1ms/step - loss: 0.3522 - accuracy: 0.8307\n",
            "Epoch 222/512\n",
            "24/24 [==============================] - 0s 1ms/step - loss: 0.3529 - accuracy: 0.8398\n",
            "Epoch 223/512\n",
            "24/24 [==============================] - 0s 1ms/step - loss: 0.3422 - accuracy: 0.8464\n",
            "Epoch 224/512\n",
            "24/24 [==============================] - 0s 1ms/step - loss: 0.3558 - accuracy: 0.8281\n",
            "Epoch 225/512\n",
            "24/24 [==============================] - 0s 1ms/step - loss: 0.3406 - accuracy: 0.8372\n",
            "Epoch 226/512\n",
            "24/24 [==============================] - 0s 1ms/step - loss: 0.3599 - accuracy: 0.8320\n",
            "Epoch 227/512\n",
            "24/24 [==============================] - 0s 1ms/step - loss: 0.3506 - accuracy: 0.8333\n",
            "Epoch 228/512\n",
            "24/24 [==============================] - 0s 1ms/step - loss: 0.3468 - accuracy: 0.8385\n",
            "Epoch 229/512\n",
            "24/24 [==============================] - 0s 1ms/step - loss: 0.3243 - accuracy: 0.8503\n",
            "Epoch 230/512\n",
            "24/24 [==============================] - 0s 1ms/step - loss: 0.3533 - accuracy: 0.8268\n",
            "Epoch 231/512\n",
            "24/24 [==============================] - 0s 1ms/step - loss: 0.3295 - accuracy: 0.8581\n",
            "Epoch 232/512\n",
            "24/24 [==============================] - 0s 1ms/step - loss: 0.3700 - accuracy: 0.8516\n",
            "Epoch 233/512\n",
            "24/24 [==============================] - 0s 1ms/step - loss: 0.3311 - accuracy: 0.8451\n",
            "Epoch 234/512\n",
            "24/24 [==============================] - 0s 1ms/step - loss: 0.3336 - accuracy: 0.8424\n",
            "Epoch 235/512\n",
            "24/24 [==============================] - 0s 1ms/step - loss: 0.3237 - accuracy: 0.8555\n",
            "Epoch 236/512\n",
            "24/24 [==============================] - 0s 1ms/step - loss: 0.3470 - accuracy: 0.8464\n",
            "Epoch 237/512\n",
            "24/24 [==============================] - 0s 1ms/step - loss: 0.3270 - accuracy: 0.8503\n",
            "Epoch 238/512\n",
            "24/24 [==============================] - 0s 1ms/step - loss: 0.3352 - accuracy: 0.8542\n",
            "Epoch 239/512\n",
            "24/24 [==============================] - 0s 1ms/step - loss: 0.3311 - accuracy: 0.8490\n",
            "Epoch 240/512\n",
            "24/24 [==============================] - 0s 1ms/step - loss: 0.3216 - accuracy: 0.8555\n",
            "Epoch 241/512\n",
            "24/24 [==============================] - 0s 1ms/step - loss: 0.3417 - accuracy: 0.8477\n",
            "Epoch 242/512\n",
            "24/24 [==============================] - 0s 1ms/step - loss: 0.3308 - accuracy: 0.8477\n",
            "Epoch 243/512\n",
            "24/24 [==============================] - 0s 1ms/step - loss: 0.3258 - accuracy: 0.8555\n",
            "Epoch 244/512\n",
            "24/24 [==============================] - 0s 1ms/step - loss: 0.3352 - accuracy: 0.8294\n",
            "Epoch 245/512\n",
            "24/24 [==============================] - 0s 1ms/step - loss: 0.3176 - accuracy: 0.8659\n",
            "Epoch 246/512\n",
            "24/24 [==============================] - 0s 1ms/step - loss: 0.3303 - accuracy: 0.8542\n",
            "Epoch 247/512\n",
            "24/24 [==============================] - 0s 1ms/step - loss: 0.3198 - accuracy: 0.8633\n",
            "Epoch 248/512\n",
            "24/24 [==============================] - 0s 1ms/step - loss: 0.3188 - accuracy: 0.8594\n",
            "Epoch 249/512\n",
            "24/24 [==============================] - 0s 1ms/step - loss: 0.3137 - accuracy: 0.8451\n",
            "Epoch 250/512\n",
            "24/24 [==============================] - 0s 1ms/step - loss: 0.3292 - accuracy: 0.8542\n",
            "Epoch 251/512\n",
            "24/24 [==============================] - 0s 1ms/step - loss: 0.3067 - accuracy: 0.8633\n",
            "Epoch 252/512\n",
            "24/24 [==============================] - 0s 1ms/step - loss: 0.3203 - accuracy: 0.8411\n",
            "Epoch 253/512\n",
            "24/24 [==============================] - 0s 1ms/step - loss: 0.3289 - accuracy: 0.8516\n",
            "Epoch 254/512\n",
            "24/24 [==============================] - 0s 1ms/step - loss: 0.3227 - accuracy: 0.8568\n",
            "Epoch 255/512\n",
            "24/24 [==============================] - 0s 1ms/step - loss: 0.3227 - accuracy: 0.8424\n",
            "Epoch 256/512\n",
            "24/24 [==============================] - 0s 1ms/step - loss: 0.3297 - accuracy: 0.8516\n",
            "Epoch 257/512\n",
            "24/24 [==============================] - 0s 1ms/step - loss: 0.3126 - accuracy: 0.8633\n",
            "Epoch 258/512\n",
            "24/24 [==============================] - 0s 1ms/step - loss: 0.3132 - accuracy: 0.8477\n",
            "Epoch 259/512\n",
            "24/24 [==============================] - 0s 1ms/step - loss: 0.3065 - accuracy: 0.8542\n",
            "Epoch 260/512\n",
            "24/24 [==============================] - 0s 1ms/step - loss: 0.3119 - accuracy: 0.8646\n",
            "Epoch 261/512\n",
            "24/24 [==============================] - 0s 1ms/step - loss: 0.3150 - accuracy: 0.8633\n",
            "Epoch 262/512\n",
            "24/24 [==============================] - 0s 1ms/step - loss: 0.3218 - accuracy: 0.8529\n",
            "Epoch 263/512\n",
            "24/24 [==============================] - 0s 1ms/step - loss: 0.2963 - accuracy: 0.8646\n",
            "Epoch 264/512\n",
            "24/24 [==============================] - 0s 1ms/step - loss: 0.3205 - accuracy: 0.8594\n",
            "Epoch 265/512\n",
            "24/24 [==============================] - 0s 1ms/step - loss: 0.3136 - accuracy: 0.8607\n",
            "Epoch 266/512\n",
            "24/24 [==============================] - 0s 1ms/step - loss: 0.3083 - accuracy: 0.8529\n",
            "Epoch 267/512\n",
            "24/24 [==============================] - 0s 1ms/step - loss: 0.3105 - accuracy: 0.8672\n",
            "Epoch 268/512\n",
            "24/24 [==============================] - 0s 1ms/step - loss: 0.3068 - accuracy: 0.8542\n",
            "Epoch 269/512\n",
            "24/24 [==============================] - 0s 1ms/step - loss: 0.3160 - accuracy: 0.8516\n",
            "Epoch 270/512\n",
            "24/24 [==============================] - 0s 1ms/step - loss: 0.3081 - accuracy: 0.8542\n",
            "Epoch 271/512\n",
            "24/24 [==============================] - 0s 1ms/step - loss: 0.3139 - accuracy: 0.8594\n",
            "Epoch 272/512\n",
            "24/24 [==============================] - 0s 1ms/step - loss: 0.3066 - accuracy: 0.8581\n",
            "Epoch 273/512\n",
            "24/24 [==============================] - 0s 1ms/step - loss: 0.2947 - accuracy: 0.8659\n",
            "Epoch 274/512\n",
            "24/24 [==============================] - 0s 1ms/step - loss: 0.3057 - accuracy: 0.8672\n",
            "Epoch 275/512\n",
            "24/24 [==============================] - 0s 1ms/step - loss: 0.3053 - accuracy: 0.8633\n",
            "Epoch 276/512\n",
            "24/24 [==============================] - 0s 1ms/step - loss: 0.2904 - accuracy: 0.8737\n",
            "Epoch 277/512\n",
            "24/24 [==============================] - 0s 1ms/step - loss: 0.3252 - accuracy: 0.8516\n",
            "Epoch 278/512\n",
            "24/24 [==============================] - 0s 1ms/step - loss: 0.2898 - accuracy: 0.8698\n",
            "Epoch 279/512\n",
            "24/24 [==============================] - 0s 1ms/step - loss: 0.3190 - accuracy: 0.8503\n",
            "Epoch 280/512\n",
            "24/24 [==============================] - 0s 1ms/step - loss: 0.2956 - accuracy: 0.8529\n",
            "Epoch 281/512\n",
            "24/24 [==============================] - 0s 1ms/step - loss: 0.3179 - accuracy: 0.8477\n",
            "Epoch 282/512\n",
            "24/24 [==============================] - 0s 1ms/step - loss: 0.2881 - accuracy: 0.8672\n",
            "Epoch 283/512\n",
            "24/24 [==============================] - 0s 1ms/step - loss: 0.3081 - accuracy: 0.8477\n",
            "Epoch 284/512\n",
            "24/24 [==============================] - 0s 1ms/step - loss: 0.3047 - accuracy: 0.8659\n",
            "Epoch 285/512\n",
            "24/24 [==============================] - 0s 1ms/step - loss: 0.2975 - accuracy: 0.8646\n",
            "Epoch 286/512\n",
            "24/24 [==============================] - 0s 1ms/step - loss: 0.2896 - accuracy: 0.8646\n",
            "Epoch 287/512\n",
            "24/24 [==============================] - 0s 1ms/step - loss: 0.2947 - accuracy: 0.8581\n",
            "Epoch 288/512\n",
            "24/24 [==============================] - 0s 1ms/step - loss: 0.2978 - accuracy: 0.8607\n",
            "Epoch 289/512\n",
            "24/24 [==============================] - 0s 1ms/step - loss: 0.2889 - accuracy: 0.8750\n",
            "Epoch 290/512\n",
            "24/24 [==============================] - 0s 1ms/step - loss: 0.3116 - accuracy: 0.8411\n",
            "Epoch 291/512\n",
            "24/24 [==============================] - 0s 1ms/step - loss: 0.2941 - accuracy: 0.8672\n",
            "Epoch 292/512\n",
            "24/24 [==============================] - 0s 1ms/step - loss: 0.2856 - accuracy: 0.8750\n",
            "Epoch 293/512\n",
            "24/24 [==============================] - 0s 1ms/step - loss: 0.3255 - accuracy: 0.8646\n",
            "Epoch 294/512\n",
            "24/24 [==============================] - 0s 1ms/step - loss: 0.3011 - accuracy: 0.8555\n",
            "Epoch 295/512\n",
            "24/24 [==============================] - 0s 1ms/step - loss: 0.2974 - accuracy: 0.8646\n",
            "Epoch 296/512\n",
            "24/24 [==============================] - 0s 1ms/step - loss: 0.2871 - accuracy: 0.8763\n",
            "Epoch 297/512\n",
            "24/24 [==============================] - 0s 1ms/step - loss: 0.2723 - accuracy: 0.8672\n",
            "Epoch 298/512\n",
            "24/24 [==============================] - 0s 1ms/step - loss: 0.2892 - accuracy: 0.8646\n",
            "Epoch 299/512\n",
            "24/24 [==============================] - 0s 1ms/step - loss: 0.2925 - accuracy: 0.8750\n",
            "Epoch 300/512\n",
            "24/24 [==============================] - 0s 1ms/step - loss: 0.2785 - accuracy: 0.8672\n",
            "Epoch 301/512\n",
            "24/24 [==============================] - 0s 1ms/step - loss: 0.2863 - accuracy: 0.8815\n",
            "Epoch 302/512\n",
            "24/24 [==============================] - 0s 1ms/step - loss: 0.3030 - accuracy: 0.8698\n",
            "Epoch 303/512\n",
            "24/24 [==============================] - 0s 1ms/step - loss: 0.2731 - accuracy: 0.8828\n",
            "Epoch 304/512\n",
            "24/24 [==============================] - 0s 1ms/step - loss: 0.2836 - accuracy: 0.8724\n",
            "Epoch 305/512\n",
            "24/24 [==============================] - 0s 1ms/step - loss: 0.3097 - accuracy: 0.8750\n",
            "Epoch 306/512\n",
            "24/24 [==============================] - 0s 1ms/step - loss: 0.2960 - accuracy: 0.8672\n",
            "Epoch 307/512\n",
            "24/24 [==============================] - 0s 1ms/step - loss: 0.2769 - accuracy: 0.8750\n",
            "Epoch 308/512\n",
            "24/24 [==============================] - 0s 1ms/step - loss: 0.2717 - accuracy: 0.8763\n",
            "Epoch 309/512\n",
            "24/24 [==============================] - 0s 1ms/step - loss: 0.3046 - accuracy: 0.8737\n",
            "Epoch 310/512\n",
            "24/24 [==============================] - 0s 1ms/step - loss: 0.2736 - accuracy: 0.8776\n",
            "Epoch 311/512\n",
            "24/24 [==============================] - 0s 1ms/step - loss: 0.3006 - accuracy: 0.8789\n",
            "Epoch 312/512\n",
            "24/24 [==============================] - 0s 1ms/step - loss: 0.2813 - accuracy: 0.8737\n",
            "Epoch 313/512\n",
            "24/24 [==============================] - 0s 1ms/step - loss: 0.2928 - accuracy: 0.8672\n",
            "Epoch 314/512\n",
            "24/24 [==============================] - 0s 1ms/step - loss: 0.2735 - accuracy: 0.8750\n",
            "Epoch 315/512\n",
            "24/24 [==============================] - 0s 1ms/step - loss: 0.2524 - accuracy: 0.8945\n",
            "Epoch 316/512\n",
            "24/24 [==============================] - 0s 1ms/step - loss: 0.2849 - accuracy: 0.8737\n",
            "Epoch 317/512\n",
            "24/24 [==============================] - 0s 1ms/step - loss: 0.2718 - accuracy: 0.8789\n",
            "Epoch 318/512\n",
            "24/24 [==============================] - 0s 1ms/step - loss: 0.2866 - accuracy: 0.8789\n",
            "Epoch 319/512\n",
            "24/24 [==============================] - 0s 1ms/step - loss: 0.2968 - accuracy: 0.8776\n",
            "Epoch 320/512\n",
            "24/24 [==============================] - 0s 1ms/step - loss: 0.2694 - accuracy: 0.8672\n",
            "Epoch 321/512\n",
            "24/24 [==============================] - 0s 1ms/step - loss: 0.2732 - accuracy: 0.8815\n",
            "Epoch 322/512\n",
            "24/24 [==============================] - 0s 1ms/step - loss: 0.2599 - accuracy: 0.8854\n",
            "Epoch 323/512\n",
            "24/24 [==============================] - 0s 1ms/step - loss: 0.2780 - accuracy: 0.8698\n",
            "Epoch 324/512\n",
            "24/24 [==============================] - 0s 2ms/step - loss: 0.2614 - accuracy: 0.8867\n",
            "Epoch 325/512\n",
            "24/24 [==============================] - 0s 1ms/step - loss: 0.2934 - accuracy: 0.8737\n",
            "Epoch 326/512\n",
            "24/24 [==============================] - 0s 1ms/step - loss: 0.2414 - accuracy: 0.8919\n",
            "Epoch 327/512\n",
            "24/24 [==============================] - 0s 2ms/step - loss: 0.2813 - accuracy: 0.8776\n",
            "Epoch 328/512\n",
            "24/24 [==============================] - 0s 2ms/step - loss: 0.2864 - accuracy: 0.8841\n",
            "Epoch 329/512\n",
            "24/24 [==============================] - 0s 1ms/step - loss: 0.2551 - accuracy: 0.8802\n",
            "Epoch 330/512\n",
            "24/24 [==============================] - 0s 1ms/step - loss: 0.2789 - accuracy: 0.8815\n",
            "Epoch 331/512\n",
            "24/24 [==============================] - 0s 1ms/step - loss: 0.2558 - accuracy: 0.8815\n",
            "Epoch 332/512\n",
            "24/24 [==============================] - 0s 1ms/step - loss: 0.2624 - accuracy: 0.8893\n",
            "Epoch 333/512\n",
            "24/24 [==============================] - 0s 1ms/step - loss: 0.2964 - accuracy: 0.8620\n",
            "Epoch 334/512\n",
            "24/24 [==============================] - 0s 1ms/step - loss: 0.2991 - accuracy: 0.8724\n",
            "Epoch 335/512\n",
            "24/24 [==============================] - 0s 1ms/step - loss: 0.2509 - accuracy: 0.8958\n",
            "Epoch 336/512\n",
            "24/24 [==============================] - 0s 1ms/step - loss: 0.2605 - accuracy: 0.8945\n",
            "Epoch 337/512\n",
            "24/24 [==============================] - 0s 1ms/step - loss: 0.2388 - accuracy: 0.8932\n",
            "Epoch 338/512\n",
            "24/24 [==============================] - 0s 1ms/step - loss: 0.2825 - accuracy: 0.8828\n",
            "Epoch 339/512\n",
            "24/24 [==============================] - 0s 1ms/step - loss: 0.2624 - accuracy: 0.8828\n",
            "Epoch 340/512\n",
            "24/24 [==============================] - 0s 1ms/step - loss: 0.2994 - accuracy: 0.8841\n",
            "Epoch 341/512\n",
            "24/24 [==============================] - 0s 1ms/step - loss: 0.2465 - accuracy: 0.8906\n",
            "Epoch 342/512\n",
            "24/24 [==============================] - 0s 1ms/step - loss: 0.2535 - accuracy: 0.8854\n",
            "Epoch 343/512\n",
            "24/24 [==============================] - 0s 1ms/step - loss: 0.2514 - accuracy: 0.8867\n",
            "Epoch 344/512\n",
            "24/24 [==============================] - 0s 1ms/step - loss: 0.2585 - accuracy: 0.8828\n",
            "Epoch 345/512\n",
            "24/24 [==============================] - 0s 1ms/step - loss: 0.2393 - accuracy: 0.9036\n",
            "Epoch 346/512\n",
            "24/24 [==============================] - 0s 1ms/step - loss: 0.2731 - accuracy: 0.8854\n",
            "Epoch 347/512\n",
            "24/24 [==============================] - 0s 1ms/step - loss: 0.2496 - accuracy: 0.8880\n",
            "Epoch 348/512\n",
            "24/24 [==============================] - 0s 1ms/step - loss: 0.2471 - accuracy: 0.8906\n",
            "Epoch 349/512\n",
            "24/24 [==============================] - 0s 1ms/step - loss: 0.2594 - accuracy: 0.8945\n",
            "Epoch 350/512\n",
            "24/24 [==============================] - 0s 1ms/step - loss: 0.2475 - accuracy: 0.8828\n",
            "Epoch 351/512\n",
            "24/24 [==============================] - 0s 1ms/step - loss: 0.2505 - accuracy: 0.8945\n",
            "Epoch 352/512\n",
            "24/24 [==============================] - 0s 1ms/step - loss: 0.2601 - accuracy: 0.8919\n",
            "Epoch 353/512\n",
            "24/24 [==============================] - 0s 1ms/step - loss: 0.2355 - accuracy: 0.8997\n",
            "Epoch 354/512\n",
            "24/24 [==============================] - 0s 1ms/step - loss: 0.2545 - accuracy: 0.8945\n",
            "Epoch 355/512\n",
            "24/24 [==============================] - 0s 1ms/step - loss: 0.2486 - accuracy: 0.8867\n",
            "Epoch 356/512\n",
            "24/24 [==============================] - 0s 1ms/step - loss: 0.2462 - accuracy: 0.8867\n",
            "Epoch 357/512\n",
            "24/24 [==============================] - 0s 2ms/step - loss: 0.2577 - accuracy: 0.8893\n",
            "Epoch 358/512\n",
            "24/24 [==============================] - 0s 1ms/step - loss: 0.2291 - accuracy: 0.8971\n",
            "Epoch 359/512\n",
            "24/24 [==============================] - 0s 1ms/step - loss: 0.2485 - accuracy: 0.9010\n",
            "Epoch 360/512\n",
            "24/24 [==============================] - 0s 1ms/step - loss: 0.2703 - accuracy: 0.8854\n",
            "Epoch 361/512\n",
            "24/24 [==============================] - 0s 1ms/step - loss: 0.2600 - accuracy: 0.8854\n",
            "Epoch 362/512\n",
            "24/24 [==============================] - 0s 1ms/step - loss: 0.2063 - accuracy: 0.9036\n",
            "Epoch 363/512\n",
            "24/24 [==============================] - 0s 1ms/step - loss: 0.3205 - accuracy: 0.8867\n",
            "Epoch 364/512\n",
            "24/24 [==============================] - 0s 1ms/step - loss: 0.2352 - accuracy: 0.9010\n",
            "Epoch 365/512\n",
            "24/24 [==============================] - 0s 1ms/step - loss: 0.2243 - accuracy: 0.8932\n",
            "Epoch 366/512\n",
            "24/24 [==============================] - 0s 1ms/step - loss: 0.2783 - accuracy: 0.8776\n",
            "Epoch 367/512\n",
            "24/24 [==============================] - 0s 1ms/step - loss: 0.2219 - accuracy: 0.9115\n",
            "Epoch 368/512\n",
            "24/24 [==============================] - 0s 1ms/step - loss: 0.2185 - accuracy: 0.9128\n",
            "Epoch 369/512\n",
            "24/24 [==============================] - 0s 1ms/step - loss: 0.2478 - accuracy: 0.8997\n",
            "Epoch 370/512\n",
            "24/24 [==============================] - 0s 1ms/step - loss: 0.2502 - accuracy: 0.8984\n",
            "Epoch 371/512\n",
            "24/24 [==============================] - 0s 1ms/step - loss: 0.2261 - accuracy: 0.9023\n",
            "Epoch 372/512\n",
            "24/24 [==============================] - 0s 1ms/step - loss: 0.2419 - accuracy: 0.8880\n",
            "Epoch 373/512\n",
            "24/24 [==============================] - 0s 1ms/step - loss: 0.2368 - accuracy: 0.9062\n",
            "Epoch 374/512\n",
            "24/24 [==============================] - 0s 1ms/step - loss: 0.2294 - accuracy: 0.8880\n",
            "Epoch 375/512\n",
            "24/24 [==============================] - 0s 1ms/step - loss: 0.2317 - accuracy: 0.9010\n",
            "Epoch 376/512\n",
            "24/24 [==============================] - 0s 1ms/step - loss: 0.2476 - accuracy: 0.8997\n",
            "Epoch 377/512\n",
            "24/24 [==============================] - 0s 1ms/step - loss: 0.2127 - accuracy: 0.9049\n",
            "Epoch 378/512\n",
            "24/24 [==============================] - 0s 1ms/step - loss: 0.2359 - accuracy: 0.9023\n",
            "Epoch 379/512\n",
            "24/24 [==============================] - 0s 1ms/step - loss: 0.2348 - accuracy: 0.8854\n",
            "Epoch 380/512\n",
            "24/24 [==============================] - 0s 1ms/step - loss: 0.2174 - accuracy: 0.9102\n",
            "Epoch 381/512\n",
            "24/24 [==============================] - 0s 1ms/step - loss: 0.2364 - accuracy: 0.9036\n",
            "Epoch 382/512\n",
            "24/24 [==============================] - 0s 1ms/step - loss: 0.2361 - accuracy: 0.8932\n",
            "Epoch 383/512\n",
            "24/24 [==============================] - 0s 1ms/step - loss: 0.2297 - accuracy: 0.9062\n",
            "Epoch 384/512\n",
            "24/24 [==============================] - 0s 1ms/step - loss: 0.2349 - accuracy: 0.9062\n",
            "Epoch 385/512\n",
            "24/24 [==============================] - 0s 1ms/step - loss: 0.2371 - accuracy: 0.9036\n",
            "Epoch 386/512\n",
            "24/24 [==============================] - 0s 1ms/step - loss: 0.2227 - accuracy: 0.8997\n",
            "Epoch 387/512\n",
            "24/24 [==============================] - 0s 2ms/step - loss: 0.1974 - accuracy: 0.9232\n",
            "Epoch 388/512\n",
            "24/24 [==============================] - 0s 1ms/step - loss: 0.2567 - accuracy: 0.8997\n",
            "Epoch 389/512\n",
            "24/24 [==============================] - 0s 1ms/step - loss: 0.2129 - accuracy: 0.9115\n",
            "Epoch 390/512\n",
            "24/24 [==============================] - 0s 1ms/step - loss: 0.2363 - accuracy: 0.9036\n",
            "Epoch 391/512\n",
            "24/24 [==============================] - 0s 1ms/step - loss: 0.2135 - accuracy: 0.9141\n",
            "Epoch 392/512\n",
            "24/24 [==============================] - 0s 1ms/step - loss: 0.2307 - accuracy: 0.8984\n",
            "Epoch 393/512\n",
            "24/24 [==============================] - 0s 1ms/step - loss: 0.2025 - accuracy: 0.9167\n",
            "Epoch 394/512\n",
            "24/24 [==============================] - 0s 1ms/step - loss: 0.2259 - accuracy: 0.9062\n",
            "Epoch 395/512\n",
            "24/24 [==============================] - 0s 1ms/step - loss: 0.2027 - accuracy: 0.9089\n",
            "Epoch 396/512\n",
            "24/24 [==============================] - 0s 1ms/step - loss: 0.2300 - accuracy: 0.8984\n",
            "Epoch 397/512\n",
            "24/24 [==============================] - 0s 1ms/step - loss: 0.2382 - accuracy: 0.9036\n",
            "Epoch 398/512\n",
            "24/24 [==============================] - 0s 1ms/step - loss: 0.2078 - accuracy: 0.9115\n",
            "Epoch 399/512\n",
            "24/24 [==============================] - 0s 1ms/step - loss: 0.2203 - accuracy: 0.9154\n",
            "Epoch 400/512\n",
            "24/24 [==============================] - 0s 1ms/step - loss: 0.2245 - accuracy: 0.9089\n",
            "Epoch 401/512\n",
            "24/24 [==============================] - 0s 1ms/step - loss: 0.2105 - accuracy: 0.9076\n",
            "Epoch 402/512\n",
            "24/24 [==============================] - 0s 1ms/step - loss: 0.2158 - accuracy: 0.9167\n",
            "Epoch 403/512\n",
            "24/24 [==============================] - 0s 1ms/step - loss: 0.2089 - accuracy: 0.9154\n",
            "Epoch 404/512\n",
            "24/24 [==============================] - 0s 1ms/step - loss: 0.2485 - accuracy: 0.8906\n",
            "Epoch 405/512\n",
            "24/24 [==============================] - 0s 1ms/step - loss: 0.2070 - accuracy: 0.9232\n",
            "Epoch 406/512\n",
            "24/24 [==============================] - 0s 1ms/step - loss: 0.2149 - accuracy: 0.9102\n",
            "Epoch 407/512\n",
            "24/24 [==============================] - 0s 1ms/step - loss: 0.2153 - accuracy: 0.9180\n",
            "Epoch 408/512\n",
            "24/24 [==============================] - 0s 1ms/step - loss: 0.2264 - accuracy: 0.9102\n",
            "Epoch 409/512\n",
            "24/24 [==============================] - 0s 1ms/step - loss: 0.1957 - accuracy: 0.9128\n",
            "Epoch 410/512\n",
            "24/24 [==============================] - 0s 1ms/step - loss: 0.2373 - accuracy: 0.8971\n",
            "Epoch 411/512\n",
            "24/24 [==============================] - 0s 1ms/step - loss: 0.2052 - accuracy: 0.9180\n",
            "Epoch 412/512\n",
            "24/24 [==============================] - 0s 1ms/step - loss: 0.2072 - accuracy: 0.8997\n",
            "Epoch 413/512\n",
            "24/24 [==============================] - 0s 1ms/step - loss: 0.2031 - accuracy: 0.9089\n",
            "Epoch 414/512\n",
            "24/24 [==============================] - 0s 1ms/step - loss: 0.2172 - accuracy: 0.9232\n",
            "Epoch 415/512\n",
            "24/24 [==============================] - 0s 1ms/step - loss: 0.2660 - accuracy: 0.8880\n",
            "Epoch 416/512\n",
            "24/24 [==============================] - 0s 2ms/step - loss: 0.1939 - accuracy: 0.9115\n",
            "Epoch 417/512\n",
            "24/24 [==============================] - 0s 1ms/step - loss: 0.2187 - accuracy: 0.9062\n",
            "Epoch 418/512\n",
            "24/24 [==============================] - 0s 1ms/step - loss: 0.2123 - accuracy: 0.9062\n",
            "Epoch 419/512\n",
            "24/24 [==============================] - 0s 1ms/step - loss: 0.2260 - accuracy: 0.9154\n",
            "Epoch 420/512\n",
            "24/24 [==============================] - 0s 1ms/step - loss: 0.1890 - accuracy: 0.9258\n",
            "Epoch 421/512\n",
            "24/24 [==============================] - 0s 1ms/step - loss: 0.2018 - accuracy: 0.9180\n",
            "Epoch 422/512\n",
            "24/24 [==============================] - 0s 1ms/step - loss: 0.2762 - accuracy: 0.8932\n",
            "Epoch 423/512\n",
            "24/24 [==============================] - 0s 1ms/step - loss: 0.2167 - accuracy: 0.9076\n",
            "Epoch 424/512\n",
            "24/24 [==============================] - 0s 1ms/step - loss: 0.1874 - accuracy: 0.9193\n",
            "Epoch 425/512\n",
            "24/24 [==============================] - 0s 1ms/step - loss: 0.2393 - accuracy: 0.8997\n",
            "Epoch 426/512\n",
            "24/24 [==============================] - 0s 1ms/step - loss: 0.1981 - accuracy: 0.9284\n",
            "Epoch 427/512\n",
            "24/24 [==============================] - 0s 1ms/step - loss: 0.1998 - accuracy: 0.9206\n",
            "Epoch 428/512\n",
            "24/24 [==============================] - 0s 1ms/step - loss: 0.2061 - accuracy: 0.9193\n",
            "Epoch 429/512\n",
            "24/24 [==============================] - 0s 1ms/step - loss: 0.1863 - accuracy: 0.9193\n",
            "Epoch 430/512\n",
            "24/24 [==============================] - 0s 1ms/step - loss: 0.2279 - accuracy: 0.9115\n",
            "Epoch 431/512\n",
            "24/24 [==============================] - 0s 1ms/step - loss: 0.1974 - accuracy: 0.9193\n",
            "Epoch 432/512\n",
            "24/24 [==============================] - 0s 1ms/step - loss: 0.2368 - accuracy: 0.9062\n",
            "Epoch 433/512\n",
            "24/24 [==============================] - 0s 1ms/step - loss: 0.2004 - accuracy: 0.9219\n",
            "Epoch 434/512\n",
            "24/24 [==============================] - 0s 1ms/step - loss: 0.2032 - accuracy: 0.9036\n",
            "Epoch 435/512\n",
            "24/24 [==============================] - 0s 1ms/step - loss: 0.2028 - accuracy: 0.9232\n",
            "Epoch 436/512\n",
            "24/24 [==============================] - 0s 1ms/step - loss: 0.2137 - accuracy: 0.9284\n",
            "Epoch 437/512\n",
            "24/24 [==============================] - 0s 1ms/step - loss: 0.1922 - accuracy: 0.9206\n",
            "Epoch 438/512\n",
            "24/24 [==============================] - 0s 1ms/step - loss: 0.1820 - accuracy: 0.9180\n",
            "Epoch 439/512\n",
            "24/24 [==============================] - 0s 1ms/step - loss: 0.2149 - accuracy: 0.9115\n",
            "Epoch 440/512\n",
            "24/24 [==============================] - 0s 1ms/step - loss: 0.2181 - accuracy: 0.9141\n",
            "Epoch 441/512\n",
            "24/24 [==============================] - 0s 1ms/step - loss: 0.1834 - accuracy: 0.9206\n",
            "Epoch 442/512\n",
            "24/24 [==============================] - 0s 1ms/step - loss: 0.1835 - accuracy: 0.9323\n",
            "Epoch 443/512\n",
            "24/24 [==============================] - 0s 1ms/step - loss: 0.1732 - accuracy: 0.9245\n",
            "Epoch 444/512\n",
            "24/24 [==============================] - 0s 1ms/step - loss: 0.2071 - accuracy: 0.9128\n",
            "Epoch 445/512\n",
            "24/24 [==============================] - 0s 1ms/step - loss: 0.2114 - accuracy: 0.9141\n",
            "Epoch 446/512\n",
            "24/24 [==============================] - 0s 1ms/step - loss: 0.1798 - accuracy: 0.9193\n",
            "Epoch 447/512\n",
            "24/24 [==============================] - 0s 1ms/step - loss: 0.2091 - accuracy: 0.9180\n",
            "Epoch 448/512\n",
            "24/24 [==============================] - 0s 2ms/step - loss: 0.2064 - accuracy: 0.9193\n",
            "Epoch 449/512\n",
            "24/24 [==============================] - 0s 1ms/step - loss: 0.1600 - accuracy: 0.9349\n",
            "Epoch 450/512\n",
            "24/24 [==============================] - 0s 1ms/step - loss: 0.2401 - accuracy: 0.8971\n",
            "Epoch 451/512\n",
            "24/24 [==============================] - 0s 1ms/step - loss: 0.1571 - accuracy: 0.9414\n",
            "Epoch 452/512\n",
            "24/24 [==============================] - 0s 1ms/step - loss: 0.2096 - accuracy: 0.9154\n",
            "Epoch 453/512\n",
            "24/24 [==============================] - 0s 1ms/step - loss: 0.1588 - accuracy: 0.9349\n",
            "Epoch 454/512\n",
            "24/24 [==============================] - 0s 1ms/step - loss: 0.1957 - accuracy: 0.9232\n",
            "Epoch 455/512\n",
            "24/24 [==============================] - 0s 1ms/step - loss: 0.2010 - accuracy: 0.9167\n",
            "Epoch 456/512\n",
            "24/24 [==============================] - 0s 1ms/step - loss: 0.2249 - accuracy: 0.9049\n",
            "Epoch 457/512\n",
            "24/24 [==============================] - 0s 1ms/step - loss: 0.1793 - accuracy: 0.9245\n",
            "Epoch 458/512\n",
            "24/24 [==============================] - 0s 1ms/step - loss: 0.1883 - accuracy: 0.9167\n",
            "Epoch 459/512\n",
            "24/24 [==============================] - 0s 1ms/step - loss: 0.1765 - accuracy: 0.9310\n",
            "Epoch 460/512\n",
            "24/24 [==============================] - 0s 1ms/step - loss: 0.1659 - accuracy: 0.9323\n",
            "Epoch 461/512\n",
            "24/24 [==============================] - 0s 1ms/step - loss: 0.1889 - accuracy: 0.9154\n",
            "Epoch 462/512\n",
            "24/24 [==============================] - 0s 1ms/step - loss: 0.1774 - accuracy: 0.9323\n",
            "Epoch 463/512\n",
            "24/24 [==============================] - 0s 1ms/step - loss: 0.2151 - accuracy: 0.9167\n",
            "Epoch 464/512\n",
            "24/24 [==============================] - 0s 1ms/step - loss: 0.1613 - accuracy: 0.9375\n",
            "Epoch 465/512\n",
            "24/24 [==============================] - 0s 1ms/step - loss: 0.1923 - accuracy: 0.9193\n",
            "Epoch 466/512\n",
            "24/24 [==============================] - 0s 1ms/step - loss: 0.1881 - accuracy: 0.9232\n",
            "Epoch 467/512\n",
            "24/24 [==============================] - 0s 1ms/step - loss: 0.1633 - accuracy: 0.9336\n",
            "Epoch 468/512\n",
            "24/24 [==============================] - 0s 1ms/step - loss: 0.2165 - accuracy: 0.9245\n",
            "Epoch 469/512\n",
            "24/24 [==============================] - 0s 1ms/step - loss: 0.1653 - accuracy: 0.9323\n",
            "Epoch 470/512\n",
            "24/24 [==============================] - 0s 1ms/step - loss: 0.2192 - accuracy: 0.9388\n",
            "Epoch 471/512\n",
            "24/24 [==============================] - 0s 1ms/step - loss: 0.1515 - accuracy: 0.9375\n",
            "Epoch 472/512\n",
            "24/24 [==============================] - 0s 1ms/step - loss: 0.1984 - accuracy: 0.9258\n",
            "Epoch 473/512\n",
            "24/24 [==============================] - 0s 1ms/step - loss: 0.1839 - accuracy: 0.9258\n",
            "Epoch 474/512\n",
            "24/24 [==============================] - 0s 1ms/step - loss: 0.1789 - accuracy: 0.9271\n",
            "Epoch 475/512\n",
            "24/24 [==============================] - 0s 1ms/step - loss: 0.1665 - accuracy: 0.9323\n",
            "Epoch 476/512\n",
            "24/24 [==============================] - 0s 1ms/step - loss: 0.1709 - accuracy: 0.9349\n",
            "Epoch 477/512\n",
            "24/24 [==============================] - 0s 1ms/step - loss: 0.1901 - accuracy: 0.9232\n",
            "Epoch 478/512\n",
            "24/24 [==============================] - 0s 1ms/step - loss: 0.1455 - accuracy: 0.9466\n",
            "Epoch 479/512\n",
            "24/24 [==============================] - 0s 1ms/step - loss: 0.1946 - accuracy: 0.9167\n",
            "Epoch 480/512\n",
            "24/24 [==============================] - 0s 1ms/step - loss: 0.2245 - accuracy: 0.9193\n",
            "Epoch 481/512\n",
            "24/24 [==============================] - 0s 1ms/step - loss: 0.1750 - accuracy: 0.9323\n",
            "Epoch 482/512\n",
            "24/24 [==============================] - 0s 1ms/step - loss: 0.1619 - accuracy: 0.9362\n",
            "Epoch 483/512\n",
            "24/24 [==============================] - 0s 1ms/step - loss: 0.2064 - accuracy: 0.9193\n",
            "Epoch 484/512\n",
            "24/24 [==============================] - 0s 1ms/step - loss: 0.1565 - accuracy: 0.9362\n",
            "Epoch 485/512\n",
            "24/24 [==============================] - 0s 1ms/step - loss: 0.1759 - accuracy: 0.9245\n",
            "Epoch 486/512\n",
            "24/24 [==============================] - 0s 1ms/step - loss: 0.2010 - accuracy: 0.9102\n",
            "Epoch 487/512\n",
            "24/24 [==============================] - 0s 1ms/step - loss: 0.1651 - accuracy: 0.9375\n",
            "Epoch 488/512\n",
            "24/24 [==============================] - 0s 1ms/step - loss: 0.2001 - accuracy: 0.9258\n",
            "Epoch 489/512\n",
            "24/24 [==============================] - 0s 1ms/step - loss: 0.1405 - accuracy: 0.9349\n",
            "Epoch 490/512\n",
            "24/24 [==============================] - 0s 1ms/step - loss: 0.1543 - accuracy: 0.9375\n",
            "Epoch 491/512\n",
            "24/24 [==============================] - 0s 1ms/step - loss: 0.1870 - accuracy: 0.9258\n",
            "Epoch 492/512\n",
            "24/24 [==============================] - 0s 1ms/step - loss: 0.2148 - accuracy: 0.9271\n",
            "Epoch 493/512\n",
            "24/24 [==============================] - 0s 1ms/step - loss: 0.1551 - accuracy: 0.9362\n",
            "Epoch 494/512\n",
            "24/24 [==============================] - 0s 1ms/step - loss: 0.1497 - accuracy: 0.9401\n",
            "Epoch 495/512\n",
            "24/24 [==============================] - 0s 1ms/step - loss: 0.1651 - accuracy: 0.9362\n",
            "Epoch 496/512\n",
            "24/24 [==============================] - 0s 1ms/step - loss: 0.1891 - accuracy: 0.9310\n",
            "Epoch 497/512\n",
            "24/24 [==============================] - 0s 1ms/step - loss: 0.1764 - accuracy: 0.9401\n",
            "Epoch 498/512\n",
            "24/24 [==============================] - 0s 1ms/step - loss: 0.1676 - accuracy: 0.9362\n",
            "Epoch 499/512\n",
            "24/24 [==============================] - 0s 1ms/step - loss: 0.2018 - accuracy: 0.9323\n",
            "Epoch 500/512\n",
            "24/24 [==============================] - 0s 1ms/step - loss: 0.1383 - accuracy: 0.9479\n",
            "Epoch 501/512\n",
            "24/24 [==============================] - 0s 1ms/step - loss: 0.1857 - accuracy: 0.9180\n",
            "Epoch 502/512\n",
            "24/24 [==============================] - 0s 1ms/step - loss: 0.1631 - accuracy: 0.9401\n",
            "Epoch 503/512\n",
            "24/24 [==============================] - 0s 1ms/step - loss: 0.1736 - accuracy: 0.9362\n",
            "Epoch 504/512\n",
            "24/24 [==============================] - 0s 1ms/step - loss: 0.1631 - accuracy: 0.9375\n",
            "Epoch 505/512\n",
            "24/24 [==============================] - 0s 1ms/step - loss: 0.1727 - accuracy: 0.9323\n",
            "Epoch 506/512\n",
            "24/24 [==============================] - 0s 1ms/step - loss: 0.1830 - accuracy: 0.9323\n",
            "Epoch 507/512\n",
            "24/24 [==============================] - 0s 1ms/step - loss: 0.1530 - accuracy: 0.9453\n",
            "Epoch 508/512\n",
            "24/24 [==============================] - 0s 1ms/step - loss: 0.1775 - accuracy: 0.9336\n",
            "Epoch 509/512\n",
            "24/24 [==============================] - 0s 1ms/step - loss: 0.1727 - accuracy: 0.9375\n",
            "Epoch 510/512\n",
            "24/24 [==============================] - 0s 1ms/step - loss: 0.1583 - accuracy: 0.9258\n",
            "Epoch 511/512\n",
            "24/24 [==============================] - 0s 1ms/step - loss: 0.1671 - accuracy: 0.9362\n",
            "Epoch 512/512\n",
            "24/24 [==============================] - 0s 1ms/step - loss: 0.1659 - accuracy: 0.9427\n"
          ],
          "name": "stdout"
        },
        {
          "output_type": "execute_result",
          "data": {
            "text/plain": [
              "<tensorflow.python.keras.callbacks.History at 0x7f81f5b0c5f8>"
            ]
          },
          "metadata": {
            "tags": []
          },
          "execution_count": 202
        }
      ]
    },
    {
      "cell_type": "code",
      "metadata": {
        "id": "5heB-LJbtSaH",
        "colab_type": "code",
        "colab": {
          "base_uri": "https://localhost:8080/",
          "height": 35
        },
        "outputId": "cffc59cd-a54d-4fb2-ef41-d26ceaf8d974"
      },
      "source": [
        "loss, acc = nn.evaluate(x, y)"
      ],
      "execution_count": 203,
      "outputs": [
        {
          "output_type": "stream",
          "text": [
            "24/24 [==============================] - 0s 1ms/step - loss: 0.1988 - accuracy: 0.9232\n"
          ],
          "name": "stdout"
        }
      ]
    },
    {
      "cell_type": "code",
      "metadata": {
        "id": "kwf7_1ahtZIY",
        "colab_type": "code",
        "colab": {
          "base_uri": "https://localhost:8080/",
          "height": 35
        },
        "outputId": "6f4dd21e-9fd6-4202-cf07-9318824321d7"
      },
      "source": [
        "acc"
      ],
      "execution_count": 204,
      "outputs": [
        {
          "output_type": "execute_result",
          "data": {
            "text/plain": [
              "0.9231770634651184"
            ]
          },
          "metadata": {
            "tags": []
          },
          "execution_count": 204
        }
      ]
    },
    {
      "cell_type": "code",
      "metadata": {
        "id": "zL2O1w-ptaYh",
        "colab_type": "code",
        "colab": {
          "base_uri": "https://localhost:8080/",
          "height": 35
        },
        "outputId": "bb0c0d6b-ea7b-403c-e668-0358a3d571ae"
      },
      "source": [
        "loss"
      ],
      "execution_count": 205,
      "outputs": [
        {
          "output_type": "execute_result",
          "data": {
            "text/plain": [
              "0.198771134018898"
            ]
          },
          "metadata": {
            "tags": []
          },
          "execution_count": 205
        }
      ]
    },
    {
      "cell_type": "markdown",
      "metadata": {
        "id": "vhntclcj2FzA",
        "colab_type": "text"
      },
      "source": [
        "#Assignment 2"
      ]
    },
    {
      "cell_type": "markdown",
      "metadata": {
        "id": "kS6ZVbljCCV5",
        "colab_type": "text"
      },
      "source": [
        "#NN"
      ]
    },
    {
      "cell_type": "code",
      "metadata": {
        "id": "fJ_Fxk_Ctcul",
        "colab_type": "code",
        "colab": {}
      },
      "source": [
        "df1 = pd.read_excel(\"/content/Casestudy_110820.xlsx\")"
      ],
      "execution_count": 279,
      "outputs": []
    },
    {
      "cell_type": "code",
      "metadata": {
        "id": "rBGApdCn7CKn",
        "colab_type": "code",
        "colab": {
          "base_uri": "https://localhost:8080/",
          "height": 243
        },
        "outputId": "329b0e17-c0bb-4a2d-ddae-00bd27321b80"
      },
      "source": [
        "df1.isna().sum()"
      ],
      "execution_count": 280,
      "outputs": [
        {
          "output_type": "execute_result",
          "data": {
            "text/plain": [
              "V1          0\n",
              "V2          0\n",
              "V3          0\n",
              "V4          0\n",
              "V5          0\n",
              "V6          0\n",
              "V7          0\n",
              "V8          0\n",
              "V9          0\n",
              "V10         0\n",
              "V11         0\n",
              "Outcomes    0\n",
              "dtype: int64"
            ]
          },
          "metadata": {
            "tags": []
          },
          "execution_count": 280
        }
      ]
    },
    {
      "cell_type": "code",
      "metadata": {
        "id": "OVyxbQdJ68tU",
        "colab_type": "code",
        "colab": {}
      },
      "source": [
        "df1['Outcomes'] = df1['Outcomes'].replace([3,4,5,6,7,8],[1,2,3,4,5,6])"
      ],
      "execution_count": 267,
      "outputs": []
    },
    {
      "cell_type": "code",
      "metadata": {
        "id": "m-g0SU-86_7t",
        "colab_type": "code",
        "colab": {}
      },
      "source": [
        "x = df1.drop('Outcomes', axis=1)"
      ],
      "execution_count": 281,
      "outputs": []
    },
    {
      "cell_type": "code",
      "metadata": {
        "id": "7Zh6wB_Z9ET2",
        "colab_type": "code",
        "colab": {
          "base_uri": "https://localhost:8080/",
          "height": 35
        },
        "outputId": "d1d0e021-81f1-411b-8b29-db88d74f9797"
      },
      "source": [
        "x.shape"
      ],
      "execution_count": 269,
      "outputs": [
        {
          "output_type": "execute_result",
          "data": {
            "text/plain": [
              "(1599, 11)"
            ]
          },
          "metadata": {
            "tags": []
          },
          "execution_count": 269
        }
      ]
    },
    {
      "cell_type": "code",
      "metadata": {
        "id": "3pp7Xi307rPJ",
        "colab_type": "code",
        "colab": {}
      },
      "source": [
        "y = pd.get_dummies(df1['Outcomes'])"
      ],
      "execution_count": 270,
      "outputs": []
    },
    {
      "cell_type": "code",
      "metadata": {
        "id": "RDnVxF3H71vK",
        "colab_type": "code",
        "colab": {}
      },
      "source": [
        "nn = models.Sequential()\n",
        "nn.add(layers.Dense(256, activation='relu', input_shape=(11,)))\n",
        "nn.add(layers.Dense(128, activation='relu'))\n",
        "nn.add(layers.Dense(64, activation='relu'))\n",
        "nn.add(layers.Dense(6, activation='softmax'))"
      ],
      "execution_count": 271,
      "outputs": []
    },
    {
      "cell_type": "code",
      "metadata": {
        "id": "ovEe-gKi9SaI",
        "colab_type": "code",
        "colab": {
          "base_uri": "https://localhost:8080/",
          "height": 295
        },
        "outputId": "d110964a-828e-4f41-9127-000b692b06cb"
      },
      "source": [
        "nn.summary()"
      ],
      "execution_count": 272,
      "outputs": [
        {
          "output_type": "stream",
          "text": [
            "Model: \"sequential_31\"\n",
            "_________________________________________________________________\n",
            "Layer (type)                 Output Shape              Param #   \n",
            "=================================================================\n",
            "dense_105 (Dense)            (None, 256)               3072      \n",
            "_________________________________________________________________\n",
            "dense_106 (Dense)            (None, 128)               32896     \n",
            "_________________________________________________________________\n",
            "dense_107 (Dense)            (None, 64)                8256      \n",
            "_________________________________________________________________\n",
            "dense_108 (Dense)            (None, 6)                 390       \n",
            "=================================================================\n",
            "Total params: 44,614\n",
            "Trainable params: 44,614\n",
            "Non-trainable params: 0\n",
            "_________________________________________________________________\n"
          ],
          "name": "stdout"
        }
      ]
    },
    {
      "cell_type": "code",
      "metadata": {
        "id": "TKNsSZvR9U2h",
        "colab_type": "code",
        "colab": {}
      },
      "source": [
        "nn.compile(optimizer='rmsprop', loss='categorical_crossentropy', metrics=['accuracy'])"
      ],
      "execution_count": 273,
      "outputs": []
    },
    {
      "cell_type": "code",
      "metadata": {
        "id": "ZKAK0_6T9ZpB",
        "colab_type": "code",
        "colab": {}
      },
      "source": [
        "nn.fit(x, y, epochs=1000, batch_size=16)"
      ],
      "execution_count": null,
      "outputs": []
    },
    {
      "cell_type": "code",
      "metadata": {
        "id": "x59DJR4s9cAa",
        "colab_type": "code",
        "colab": {
          "base_uri": "https://localhost:8080/",
          "height": 35
        },
        "outputId": "4a60b97d-5d92-4833-c747-5ad760e46cdc"
      },
      "source": [
        "loss, acc = nn.evaluate(x, y)"
      ],
      "execution_count": 278,
      "outputs": [
        {
          "output_type": "stream",
          "text": [
            "50/50 [==============================] - 0s 894us/step - loss: 0.2125 - accuracy: 0.9306\n"
          ],
          "name": "stdout"
        }
      ]
    },
    {
      "cell_type": "code",
      "metadata": {
        "id": "XUv2MyHV9_Zw",
        "colab_type": "code",
        "colab": {
          "base_uri": "https://localhost:8080/",
          "height": 35
        },
        "outputId": "26c72444-d6bd-4614-e327-3459796eba88"
      },
      "source": [
        "acc"
      ],
      "execution_count": 277,
      "outputs": [
        {
          "output_type": "execute_result",
          "data": {
            "text/plain": [
              "0.9305816292762756"
            ]
          },
          "metadata": {
            "tags": []
          },
          "execution_count": 277
        }
      ]
    },
    {
      "cell_type": "markdown",
      "metadata": {
        "id": "koME07EqCAHT",
        "colab_type": "text"
      },
      "source": [
        "#LDA"
      ]
    },
    {
      "cell_type": "code",
      "metadata": {
        "id": "OsRho9_gBB8b",
        "colab_type": "code",
        "colab": {}
      },
      "source": [
        "df2 = pd.read_excel(\"/content/Casestudy_110820.xlsx\")"
      ],
      "execution_count": 286,
      "outputs": []
    },
    {
      "cell_type": "code",
      "metadata": {
        "id": "27CcYYi2BkoA",
        "colab_type": "code",
        "colab": {}
      },
      "source": [
        "X = df2[['V1', 'V2', 'V3', 'V4', 'V5', 'V6', 'V7', 'V8', 'V9', 'V10', 'V11']]\n",
        "y = df2['Outcomes'].values\n",
        "enc = LabelEncoder()\n",
        "label_encoder = enc.fit(y)\n",
        "y = label_encoder.transform(y) + 1"
      ],
      "execution_count": 287,
      "outputs": []
    },
    {
      "cell_type": "code",
      "metadata": {
        "id": "ADa9qcveBybg",
        "colab_type": "code",
        "colab": {}
      },
      "source": [
        "lda = LinearDiscriminantAnalysis()"
      ],
      "execution_count": 289,
      "outputs": []
    },
    {
      "cell_type": "code",
      "metadata": {
        "id": "VmE4ofsPBrXA",
        "colab_type": "code",
        "colab": {
          "base_uri": "https://localhost:8080/",
          "height": 35
        },
        "outputId": "de64135e-875f-4629-ea21-fbf8cc3b460c"
      },
      "source": [
        "lda.fit (X,y)\n",
        "pred = lda.predict(X)\n",
        "pred"
      ],
      "execution_count": 290,
      "outputs": [
        {
          "output_type": "execute_result",
          "data": {
            "text/plain": [
              "array([3, 3, 3, ..., 4, 4, 4])"
            ]
          },
          "metadata": {
            "tags": []
          },
          "execution_count": 290
        }
      ]
    },
    {
      "cell_type": "code",
      "metadata": {
        "id": "ILX7NR9IBtqK",
        "colab_type": "code",
        "colab": {
          "base_uri": "https://localhost:8080/",
          "height": 35
        },
        "outputId": "20f41f82-548c-4052-db72-f0a1bccd70b7"
      },
      "source": [
        "from sklearn.metrics import accuracy_score\n",
        "acculda = accuracy_score(pred, y)\n",
        "acculda"
      ],
      "execution_count": 291,
      "outputs": [
        {
          "output_type": "execute_result",
          "data": {
            "text/plain": [
              "0.6035021888680425"
            ]
          },
          "metadata": {
            "tags": []
          },
          "execution_count": 291
        }
      ]
    },
    {
      "cell_type": "code",
      "metadata": {
        "id": "F-UCPpVGB1wP",
        "colab_type": "code",
        "colab": {}
      },
      "source": [
        ""
      ],
      "execution_count": null,
      "outputs": []
    }
  ]
}